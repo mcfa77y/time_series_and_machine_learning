{
 "cells": [
  {
   "cell_type": "markdown",
   "metadata": {},
   "source": [
    "# LTSM for stonk prices\n",
    "## setup imports\n"
   ]
  },
  {
   "cell_type": "code",
   "execution_count": 31,
   "metadata": {},
   "outputs": [],
   "source": [
    "import numpy as np\n",
    "from matplotlib import pyplot as plt\n",
    "import pandas as pd\n",
    "import pandas_datareader as web\n",
    "\n",
    "from sklearn.preprocessing import MinMaxScaler\n",
    "from tensorflow.keras.models import Sequential\n",
    "from tensorflow.keras.metrics import RootMeanSquaredError\n",
    "from tensorflow.keras.layers import Dense, Dropout, LSTM\n",
    "\n",
    "import datetime as dt\n",
    "\n",
    "import plotly\n",
    "import chart_studio.plotly as py\n",
    "import plotly.tools as tls\n",
    "import plotly.express as px\n"
   ]
  },
  {
   "source": [
    "# Utils"
   ],
   "cell_type": "markdown",
   "metadata": {}
  },
  {
   "cell_type": "code",
   "execution_count": 32,
   "metadata": {},
   "outputs": [],
   "source": [
    "def list_to_np_array(tmp_list, label=\"\"):\n",
    "    result = np.array(tmp_list)\n",
    "    result = np.reshape(result, (result.shape[0], result.shape[1], 1))\n",
    "    print(f\"{label}: row: {result.shape[0]} col: {result.shape[1]}\")\n",
    "    return result"
   ]
  },
  {
   "source": [
    "### constants"
   ],
   "cell_type": "markdown",
   "metadata": {}
  },
  {
   "cell_type": "code",
   "execution_count": 33,
   "metadata": {},
   "outputs": [],
   "source": [
    "CLOSE = 'Close'\n",
    "ROW_AXIS = 0\n",
    "COL_AXIS = 1"
   ]
  },
  {
   "source": [
    "## Load Data\n"
   ],
   "cell_type": "markdown",
   "metadata": {}
  },
  {
   "cell_type": "code",
   "execution_count": 59,
   "metadata": {},
   "outputs": [],
   "source": [
    "company = 'FB'\n",
    "start = dt.datetime(2012, 1, 1)\n",
    "end = dt.datetime(2020, 1, 1)\n",
    "# end = dt.datetime.now() - dt.timedelta(days=1)\n",
    "\n",
    "train_data = web.DataReader(company, 'yahoo', start, end)\n",
    "train_close_data = train_data[CLOSE]\n",
    "\n",
    "# train_data_close = train_data[CLOSE].values.reshape(-1,1)\n"
   ]
  },
  {
   "source": [
    "## Prepare Data"
   ],
   "cell_type": "markdown",
   "metadata": {}
  },
  {
   "cell_type": "code",
   "execution_count": 60,
   "metadata": {
    "tags": []
   },
   "outputs": [
    {
     "output_type": "stream",
     "name": "stdout",
     "text": [
      "scaled_train_data.shape: (1917, 1)\nx_train: row: 1887 col: 30\n"
     ]
    }
   ],
   "source": [
    "# scale date to fit between 0 -> 1 could try out 0.75 and see how that works\n",
    "scalar = MinMaxScaler(feature_range=(0,0.75))\n",
    "scaled_train_data = scalar.fit_transform(train_close_data.values.reshape(-1,1))\n",
    "print(f\"scaled_train_data.shape: {scaled_train_data.shape}\")\n",
    "\n",
    "# how many days to look into past\n",
    "# window of data to use for pridiction\n",
    "# larger window is less sensative to recent stock prices\n",
    "# smaller window is more sensitive to recent stock prices\n",
    "prediction_days = 30\n",
    "\n",
    "size_data = len(scaled_train_data)\n",
    "\n",
    "# x_train is a sliding window of 60 days of data\n",
    "x_train = []\n",
    "\n",
    "# y_train is the closing day value of stocks on 60th day\n",
    "y_train = []\n",
    "\n",
    "for x in range(prediction_days, size_data):\n",
    "    prev_x = x - prediction_days\n",
    "    x_training_data = scaled_train_data[prev_x:x, 0]\n",
    "    # x_training_data shape = (60,)\n",
    "    x_train.append(x_training_data)\n",
    "\n",
    "    y_training_data = scaled_train_data[x, 0]\n",
    "    # y_training_data shape = ()\n",
    "    y_train.append(y_training_data)\n",
    "\n",
    "x_train = list_to_np_array(x_train, \"x_train\")\n",
    "y_train = np.array(y_train)\n"
   ]
  },
  {
   "source": [
    "## Build model"
   ],
   "cell_type": "markdown",
   "metadata": {}
  },
  {
   "cell_type": "code",
   "execution_count": 61,
   "metadata": {},
   "outputs": [
    {
     "output_type": "stream",
     "name": "stdout",
     "text": [
      "Epoch 1/25\n",
      "54/54 [==============================] - 16s 82ms/step - loss: 0.0279 - root_mean_squared_error: 0.0351 - val_loss: 0.1145 - val_root_mean_squared_error: 0.1178\n",
      "Epoch 2/25\n",
      "54/54 [==============================] - 3s 52ms/step - loss: 0.0819 - root_mean_squared_error: 0.0952 - val_loss: 0.1011 - val_root_mean_squared_error: 0.1046\n",
      "Epoch 3/25\n",
      "54/54 [==============================] - 3s 56ms/step - loss: 0.0483 - root_mean_squared_error: 0.0557 - val_loss: 0.0761 - val_root_mean_squared_error: 0.0805\n",
      "Epoch 4/25\n",
      "54/54 [==============================] - 3s 54ms/step - loss: 0.0586 - root_mean_squared_error: 0.0702 - val_loss: 0.0497 - val_root_mean_squared_error: 0.0549\n",
      "Epoch 5/25\n",
      "54/54 [==============================] - 3s 50ms/step - loss: 0.0203 - root_mean_squared_error: 0.0269 - val_loss: 0.0407 - val_root_mean_squared_error: 0.0461\n",
      "Epoch 6/25\n",
      "54/54 [==============================] - 2s 44ms/step - loss: 0.0319 - root_mean_squared_error: 0.0384 - val_loss: 0.0249 - val_root_mean_squared_error: 0.0290\n",
      "Epoch 7/25\n",
      "54/54 [==============================] - 2s 35ms/step - loss: 0.0233 - root_mean_squared_error: 0.0297 - val_loss: 0.0290 - val_root_mean_squared_error: 0.0374\n",
      "Epoch 8/25\n",
      "54/54 [==============================] - 2s 38ms/step - loss: 0.0614 - root_mean_squared_error: 0.0800 - val_loss: 0.0626 - val_root_mean_squared_error: 0.0669\n",
      "Epoch 9/25\n",
      "54/54 [==============================] - 2s 33ms/step - loss: 0.0763 - root_mean_squared_error: 0.0895 - val_loss: 0.0359 - val_root_mean_squared_error: 0.0410\n",
      "Epoch 10/25\n",
      "54/54 [==============================] - 2s 34ms/step - loss: 0.0208 - root_mean_squared_error: 0.0265 - val_loss: 0.0461 - val_root_mean_squared_error: 0.0510\n",
      "Epoch 11/25\n",
      "54/54 [==============================] - 2s 33ms/step - loss: 0.0244 - root_mean_squared_error: 0.0305 - val_loss: 0.0215 - val_root_mean_squared_error: 0.0257\n",
      "Epoch 12/25\n",
      "54/54 [==============================] - 2s 37ms/step - loss: 0.0189 - root_mean_squared_error: 0.0240 - val_loss: 0.0257 - val_root_mean_squared_error: 0.0302\n",
      "Epoch 13/25\n",
      "54/54 [==============================] - 2s 35ms/step - loss: 0.0165 - root_mean_squared_error: 0.0226 - val_loss: 0.0208 - val_root_mean_squared_error: 0.0269\n",
      "Epoch 14/25\n",
      "54/54 [==============================] - 2s 34ms/step - loss: 0.0470 - root_mean_squared_error: 0.0550 - val_loss: 0.0280 - val_root_mean_squared_error: 0.0328\n",
      "Epoch 15/25\n",
      "54/54 [==============================] - 2s 36ms/step - loss: 0.0188 - root_mean_squared_error: 0.0252 - val_loss: 0.0198 - val_root_mean_squared_error: 0.0254\n",
      "Epoch 16/25\n",
      "54/54 [==============================] - 2s 34ms/step - loss: 0.0257 - root_mean_squared_error: 0.0318 - val_loss: 0.0308 - val_root_mean_squared_error: 0.0384\n",
      "Epoch 17/25\n",
      "54/54 [==============================] - 2s 34ms/step - loss: 0.0487 - root_mean_squared_error: 0.0593 - val_loss: 0.0291 - val_root_mean_squared_error: 0.0339\n",
      "Epoch 18/25\n",
      "54/54 [==============================] - 2s 34ms/step - loss: 0.0414 - root_mean_squared_error: 0.0461 - val_loss: 0.0355 - val_root_mean_squared_error: 0.0402\n",
      "Epoch 19/25\n",
      "54/54 [==============================] - 2s 33ms/step - loss: 0.0433 - root_mean_squared_error: 0.0525 - val_loss: 0.0220 - val_root_mean_squared_error: 0.0267\n",
      "Epoch 20/25\n",
      "54/54 [==============================] - 2s 32ms/step - loss: 0.0405 - root_mean_squared_error: 0.0523 - val_loss: 0.0367 - val_root_mean_squared_error: 0.0412\n",
      "Epoch 21/25\n",
      "54/54 [==============================] - 2s 33ms/step - loss: 0.0544 - root_mean_squared_error: 0.0659 - val_loss: 0.0191 - val_root_mean_squared_error: 0.0247\n",
      "Epoch 22/25\n",
      "54/54 [==============================] - 2s 33ms/step - loss: 0.0288 - root_mean_squared_error: 0.0360 - val_loss: 0.0188 - val_root_mean_squared_error: 0.0240\n",
      "Epoch 23/25\n",
      "54/54 [==============================] - 2s 40ms/step - loss: 0.0164 - root_mean_squared_error: 0.0223 - val_loss: 0.0243 - val_root_mean_squared_error: 0.0292\n",
      "Epoch 24/25\n",
      "54/54 [==============================] - 2s 33ms/step - loss: 0.0230 - root_mean_squared_error: 0.0291 - val_loss: 0.0357 - val_root_mean_squared_error: 0.0401\n",
      "Epoch 25/25\n",
      "54/54 [==============================] - 2s 34ms/step - loss: 0.0339 - root_mean_squared_error: 0.0395 - val_loss: 0.0361 - val_root_mean_squared_error: 0.0405\n"
     ]
    }
   ],
   "source": [
    "model = Sequential()\n",
    "# you can tweak this parameter\n",
    "units = 50\n",
    "# x_train.shape[1] = 30\n",
    "model.add(LSTM(units=units, return_sequences= True, input_shape=(x_train.shape[1], 1)))\n",
    "model.add(Dropout(0.2))\n",
    "\n",
    "model.add(LSTM(units=units, return_sequences= True))\n",
    "model.add(Dropout(0.2))\n",
    "\n",
    "model.add(LSTM(units=units))\n",
    "model.add(Dropout(0.2))\n",
    "\n",
    "model.add(Dense(units=1)) # predict the closing price\n",
    "\n",
    "model.compile(optimizer=\"adam\", loss=\"mean_absolute_error\", metrics=[RootMeanSquaredError()])\n",
    "history = model.fit(x_train, y_train, epochs=25, batch_size=32, validation_split=0.1, shuffle=False)\n"
   ]
  },
  {
   "cell_type": "code",
   "execution_count": 62,
   "metadata": {},
   "outputs": [
    {
     "output_type": "execute_result",
     "data": {
      "text/plain": [
       "<matplotlib.legend.Legend at 0x16d548e50>"
      ]
     },
     "metadata": {},
     "execution_count": 62
    },
    {
     "output_type": "display_data",
     "data": {
      "text/plain": "<Figure size 432x288 with 1 Axes>",
      "image/svg+xml": "<?xml version=\"1.0\" encoding=\"utf-8\" standalone=\"no\"?>\n<!DOCTYPE svg PUBLIC \"-//W3C//DTD SVG 1.1//EN\"\n  \"http://www.w3.org/Graphics/SVG/1.1/DTD/svg11.dtd\">\n<svg height=\"248.518125pt\" version=\"1.1\" viewBox=\"0 0 382.291761 248.518125\" width=\"382.291761pt\" xmlns=\"http://www.w3.org/2000/svg\" xmlns:xlink=\"http://www.w3.org/1999/xlink\">\n <metadata>\n  <rdf:RDF xmlns:cc=\"http://creativecommons.org/ns#\" xmlns:dc=\"http://purl.org/dc/elements/1.1/\" xmlns:rdf=\"http://www.w3.org/1999/02/22-rdf-syntax-ns#\">\n   <cc:Work>\n    <dc:type rdf:resource=\"http://purl.org/dc/dcmitype/StillImage\"/>\n    <dc:date>2021-03-31T13:03:13.725652</dc:date>\n    <dc:format>image/svg+xml</dc:format>\n    <dc:creator>\n     <cc:Agent>\n      <dc:title>Matplotlib v3.4.0, https://matplotlib.org/</dc:title>\n     </cc:Agent>\n    </dc:creator>\n   </cc:Work>\n  </rdf:RDF>\n </metadata>\n <defs>\n  <style type=\"text/css\">*{stroke-linecap:butt;stroke-linejoin:round;}</style>\n </defs>\n <g id=\"figure_1\">\n  <g id=\"patch_1\">\n   <path d=\"M 0 248.518125 \nL 382.291761 248.518125 \nL 382.291761 0 \nL 0 0 \nz\n\" style=\"fill:none;\"/>\n  </g>\n  <g id=\"axes_1\">\n   <g id=\"patch_2\">\n    <path d=\"M 36.465625 224.64 \nL 371.265625 224.64 \nL 371.265625 7.2 \nL 36.465625 7.2 \nz\n\" style=\"fill:#ffffff;\"/>\n   </g>\n   <g id=\"matplotlib.axis_1\">\n    <g id=\"xtick_1\">\n     <g id=\"line2d_1\">\n      <defs>\n       <path d=\"M 0 0 \nL 0 3.5 \n\" id=\"m4a7f8f6478\" style=\"stroke:#000000;stroke-width:0.8;\"/>\n      </defs>\n      <g>\n       <use style=\"stroke:#000000;stroke-width:0.8;\" x=\"51.683807\" xlink:href=\"#m4a7f8f6478\" y=\"224.64\"/>\n      </g>\n     </g>\n     <g id=\"text_1\">\n      <!-- 0 -->\n      <g transform=\"translate(48.502557 239.238437)scale(0.1 -0.1)\">\n       <defs>\n        <path d=\"M 2034 4250 \nQ 1547 4250 1301 3770 \nQ 1056 3291 1056 2328 \nQ 1056 1369 1301 889 \nQ 1547 409 2034 409 \nQ 2525 409 2770 889 \nQ 3016 1369 3016 2328 \nQ 3016 3291 2770 3770 \nQ 2525 4250 2034 4250 \nz\nM 2034 4750 \nQ 2819 4750 3233 4129 \nQ 3647 3509 3647 2328 \nQ 3647 1150 3233 529 \nQ 2819 -91 2034 -91 \nQ 1250 -91 836 529 \nQ 422 1150 422 2328 \nQ 422 3509 836 4129 \nQ 1250 4750 2034 4750 \nz\n\" id=\"DejaVuSans-30\" transform=\"scale(0.015625)\"/>\n       </defs>\n       <use xlink:href=\"#DejaVuSans-30\"/>\n      </g>\n     </g>\n    </g>\n    <g id=\"xtick_2\">\n     <g id=\"line2d_2\">\n      <g>\n       <use style=\"stroke:#000000;stroke-width:0.8;\" x=\"115.092898\" xlink:href=\"#m4a7f8f6478\" y=\"224.64\"/>\n      </g>\n     </g>\n     <g id=\"text_2\">\n      <!-- 5 -->\n      <g transform=\"translate(111.911648 239.238437)scale(0.1 -0.1)\">\n       <defs>\n        <path d=\"M 691 4666 \nL 3169 4666 \nL 3169 4134 \nL 1269 4134 \nL 1269 2991 \nQ 1406 3038 1543 3061 \nQ 1681 3084 1819 3084 \nQ 2600 3084 3056 2656 \nQ 3513 2228 3513 1497 \nQ 3513 744 3044 326 \nQ 2575 -91 1722 -91 \nQ 1428 -91 1123 -41 \nQ 819 9 494 109 \nL 494 744 \nQ 775 591 1075 516 \nQ 1375 441 1709 441 \nQ 2250 441 2565 725 \nQ 2881 1009 2881 1497 \nQ 2881 1984 2565 2268 \nQ 2250 2553 1709 2553 \nQ 1456 2553 1204 2497 \nQ 953 2441 691 2322 \nL 691 4666 \nz\n\" id=\"DejaVuSans-35\" transform=\"scale(0.015625)\"/>\n       </defs>\n       <use xlink:href=\"#DejaVuSans-35\"/>\n      </g>\n     </g>\n    </g>\n    <g id=\"xtick_3\">\n     <g id=\"line2d_3\">\n      <g>\n       <use style=\"stroke:#000000;stroke-width:0.8;\" x=\"178.501989\" xlink:href=\"#m4a7f8f6478\" y=\"224.64\"/>\n      </g>\n     </g>\n     <g id=\"text_3\">\n      <!-- 10 -->\n      <g transform=\"translate(172.139489 239.238437)scale(0.1 -0.1)\">\n       <defs>\n        <path d=\"M 794 531 \nL 1825 531 \nL 1825 4091 \nL 703 3866 \nL 703 4441 \nL 1819 4666 \nL 2450 4666 \nL 2450 531 \nL 3481 531 \nL 3481 0 \nL 794 0 \nL 794 531 \nz\n\" id=\"DejaVuSans-31\" transform=\"scale(0.015625)\"/>\n       </defs>\n       <use xlink:href=\"#DejaVuSans-31\"/>\n       <use x=\"63.623047\" xlink:href=\"#DejaVuSans-30\"/>\n      </g>\n     </g>\n    </g>\n    <g id=\"xtick_4\">\n     <g id=\"line2d_4\">\n      <g>\n       <use style=\"stroke:#000000;stroke-width:0.8;\" x=\"241.91108\" xlink:href=\"#m4a7f8f6478\" y=\"224.64\"/>\n      </g>\n     </g>\n     <g id=\"text_4\">\n      <!-- 15 -->\n      <g transform=\"translate(235.54858 239.238437)scale(0.1 -0.1)\">\n       <use xlink:href=\"#DejaVuSans-31\"/>\n       <use x=\"63.623047\" xlink:href=\"#DejaVuSans-35\"/>\n      </g>\n     </g>\n    </g>\n    <g id=\"xtick_5\">\n     <g id=\"line2d_5\">\n      <g>\n       <use style=\"stroke:#000000;stroke-width:0.8;\" x=\"305.32017\" xlink:href=\"#m4a7f8f6478\" y=\"224.64\"/>\n      </g>\n     </g>\n     <g id=\"text_5\">\n      <!-- 20 -->\n      <g transform=\"translate(298.95767 239.238437)scale(0.1 -0.1)\">\n       <defs>\n        <path d=\"M 1228 531 \nL 3431 531 \nL 3431 0 \nL 469 0 \nL 469 531 \nQ 828 903 1448 1529 \nQ 2069 2156 2228 2338 \nQ 2531 2678 2651 2914 \nQ 2772 3150 2772 3378 \nQ 2772 3750 2511 3984 \nQ 2250 4219 1831 4219 \nQ 1534 4219 1204 4116 \nQ 875 4013 500 3803 \nL 500 4441 \nQ 881 4594 1212 4672 \nQ 1544 4750 1819 4750 \nQ 2544 4750 2975 4387 \nQ 3406 4025 3406 3419 \nQ 3406 3131 3298 2873 \nQ 3191 2616 2906 2266 \nQ 2828 2175 2409 1742 \nQ 1991 1309 1228 531 \nz\n\" id=\"DejaVuSans-32\" transform=\"scale(0.015625)\"/>\n       </defs>\n       <use xlink:href=\"#DejaVuSans-32\"/>\n       <use x=\"63.623047\" xlink:href=\"#DejaVuSans-30\"/>\n      </g>\n     </g>\n    </g>\n    <g id=\"xtick_6\">\n     <g id=\"line2d_6\">\n      <g>\n       <use style=\"stroke:#000000;stroke-width:0.8;\" x=\"368.729261\" xlink:href=\"#m4a7f8f6478\" y=\"224.64\"/>\n      </g>\n     </g>\n     <g id=\"text_6\">\n      <!-- 25 -->\n      <g transform=\"translate(362.366761 239.238437)scale(0.1 -0.1)\">\n       <use xlink:href=\"#DejaVuSans-32\"/>\n       <use x=\"63.623047\" xlink:href=\"#DejaVuSans-35\"/>\n      </g>\n     </g>\n    </g>\n   </g>\n   <g id=\"matplotlib.axis_2\">\n    <g id=\"ytick_1\">\n     <g id=\"line2d_7\">\n      <defs>\n       <path d=\"M 0 0 \nL -3.5 0 \n\" id=\"m9e5f3b79b3\" style=\"stroke:#000000;stroke-width:0.8;\"/>\n      </defs>\n      <g>\n       <use style=\"stroke:#000000;stroke-width:0.8;\" x=\"36.465625\" xlink:href=\"#m9e5f3b79b3\" y=\"212.334161\"/>\n      </g>\n     </g>\n     <g id=\"text_7\">\n      <!-- 0.02 -->\n      <g transform=\"translate(7.2 216.13338)scale(0.1 -0.1)\">\n       <defs>\n        <path d=\"M 684 794 \nL 1344 794 \nL 1344 0 \nL 684 0 \nL 684 794 \nz\n\" id=\"DejaVuSans-2e\" transform=\"scale(0.015625)\"/>\n       </defs>\n       <use xlink:href=\"#DejaVuSans-30\"/>\n       <use x=\"63.623047\" xlink:href=\"#DejaVuSans-2e\"/>\n       <use x=\"95.410156\" xlink:href=\"#DejaVuSans-30\"/>\n       <use x=\"159.033203\" xlink:href=\"#DejaVuSans-32\"/>\n      </g>\n     </g>\n    </g>\n    <g id=\"ytick_2\">\n     <g id=\"line2d_8\">\n      <g>\n       <use style=\"stroke:#000000;stroke-width:0.8;\" x=\"36.465625\" xlink:href=\"#m9e5f3b79b3\" y=\"171.018401\"/>\n      </g>\n     </g>\n     <g id=\"text_8\">\n      <!-- 0.04 -->\n      <g transform=\"translate(7.2 174.817619)scale(0.1 -0.1)\">\n       <defs>\n        <path d=\"M 2419 4116 \nL 825 1625 \nL 2419 1625 \nL 2419 4116 \nz\nM 2253 4666 \nL 3047 4666 \nL 3047 1625 \nL 3713 1625 \nL 3713 1100 \nL 3047 1100 \nL 3047 0 \nL 2419 0 \nL 2419 1100 \nL 313 1100 \nL 313 1709 \nL 2253 4666 \nz\n\" id=\"DejaVuSans-34\" transform=\"scale(0.015625)\"/>\n       </defs>\n       <use xlink:href=\"#DejaVuSans-30\"/>\n       <use x=\"63.623047\" xlink:href=\"#DejaVuSans-2e\"/>\n       <use x=\"95.410156\" xlink:href=\"#DejaVuSans-30\"/>\n       <use x=\"159.033203\" xlink:href=\"#DejaVuSans-34\"/>\n      </g>\n     </g>\n    </g>\n    <g id=\"ytick_3\">\n     <g id=\"line2d_9\">\n      <g>\n       <use style=\"stroke:#000000;stroke-width:0.8;\" x=\"36.465625\" xlink:href=\"#m9e5f3b79b3\" y=\"129.70264\"/>\n      </g>\n     </g>\n     <g id=\"text_9\">\n      <!-- 0.06 -->\n      <g transform=\"translate(7.2 133.501859)scale(0.1 -0.1)\">\n       <defs>\n        <path d=\"M 2113 2584 \nQ 1688 2584 1439 2293 \nQ 1191 2003 1191 1497 \nQ 1191 994 1439 701 \nQ 1688 409 2113 409 \nQ 2538 409 2786 701 \nQ 3034 994 3034 1497 \nQ 3034 2003 2786 2293 \nQ 2538 2584 2113 2584 \nz\nM 3366 4563 \nL 3366 3988 \nQ 3128 4100 2886 4159 \nQ 2644 4219 2406 4219 \nQ 1781 4219 1451 3797 \nQ 1122 3375 1075 2522 \nQ 1259 2794 1537 2939 \nQ 1816 3084 2150 3084 \nQ 2853 3084 3261 2657 \nQ 3669 2231 3669 1497 \nQ 3669 778 3244 343 \nQ 2819 -91 2113 -91 \nQ 1303 -91 875 529 \nQ 447 1150 447 2328 \nQ 447 3434 972 4092 \nQ 1497 4750 2381 4750 \nQ 2619 4750 2861 4703 \nQ 3103 4656 3366 4563 \nz\n\" id=\"DejaVuSans-36\" transform=\"scale(0.015625)\"/>\n       </defs>\n       <use xlink:href=\"#DejaVuSans-30\"/>\n       <use x=\"63.623047\" xlink:href=\"#DejaVuSans-2e\"/>\n       <use x=\"95.410156\" xlink:href=\"#DejaVuSans-30\"/>\n       <use x=\"159.033203\" xlink:href=\"#DejaVuSans-36\"/>\n      </g>\n     </g>\n    </g>\n    <g id=\"ytick_4\">\n     <g id=\"line2d_10\">\n      <g>\n       <use style=\"stroke:#000000;stroke-width:0.8;\" x=\"36.465625\" xlink:href=\"#m9e5f3b79b3\" y=\"88.386879\"/>\n      </g>\n     </g>\n     <g id=\"text_10\">\n      <!-- 0.08 -->\n      <g transform=\"translate(7.2 92.186098)scale(0.1 -0.1)\">\n       <defs>\n        <path d=\"M 2034 2216 \nQ 1584 2216 1326 1975 \nQ 1069 1734 1069 1313 \nQ 1069 891 1326 650 \nQ 1584 409 2034 409 \nQ 2484 409 2743 651 \nQ 3003 894 3003 1313 \nQ 3003 1734 2745 1975 \nQ 2488 2216 2034 2216 \nz\nM 1403 2484 \nQ 997 2584 770 2862 \nQ 544 3141 544 3541 \nQ 544 4100 942 4425 \nQ 1341 4750 2034 4750 \nQ 2731 4750 3128 4425 \nQ 3525 4100 3525 3541 \nQ 3525 3141 3298 2862 \nQ 3072 2584 2669 2484 \nQ 3125 2378 3379 2068 \nQ 3634 1759 3634 1313 \nQ 3634 634 3220 271 \nQ 2806 -91 2034 -91 \nQ 1263 -91 848 271 \nQ 434 634 434 1313 \nQ 434 1759 690 2068 \nQ 947 2378 1403 2484 \nz\nM 1172 3481 \nQ 1172 3119 1398 2916 \nQ 1625 2713 2034 2713 \nQ 2441 2713 2670 2916 \nQ 2900 3119 2900 3481 \nQ 2900 3844 2670 4047 \nQ 2441 4250 2034 4250 \nQ 1625 4250 1398 4047 \nQ 1172 3844 1172 3481 \nz\n\" id=\"DejaVuSans-38\" transform=\"scale(0.015625)\"/>\n       </defs>\n       <use xlink:href=\"#DejaVuSans-30\"/>\n       <use x=\"63.623047\" xlink:href=\"#DejaVuSans-2e\"/>\n       <use x=\"95.410156\" xlink:href=\"#DejaVuSans-30\"/>\n       <use x=\"159.033203\" xlink:href=\"#DejaVuSans-38\"/>\n      </g>\n     </g>\n    </g>\n    <g id=\"ytick_5\">\n     <g id=\"line2d_11\">\n      <g>\n       <use style=\"stroke:#000000;stroke-width:0.8;\" x=\"36.465625\" xlink:href=\"#m9e5f3b79b3\" y=\"47.071118\"/>\n      </g>\n     </g>\n     <g id=\"text_11\">\n      <!-- 0.10 -->\n      <g transform=\"translate(7.2 50.870337)scale(0.1 -0.1)\">\n       <use xlink:href=\"#DejaVuSans-30\"/>\n       <use x=\"63.623047\" xlink:href=\"#DejaVuSans-2e\"/>\n       <use x=\"95.410156\" xlink:href=\"#DejaVuSans-31\"/>\n       <use x=\"159.033203\" xlink:href=\"#DejaVuSans-30\"/>\n      </g>\n     </g>\n    </g>\n   </g>\n   <g id=\"line2d_12\">\n    <path clip-path=\"url(#pd38d03e768)\" d=\"M 51.683807 173.838877 \nL 64.365625 131.503719 \nL 77.047443 159.150055 \nL 89.729261 160.299371 \nL 102.41108 191.705711 \nL 115.092898 180.352515 \nL 127.774716 186.655053 \nL 140.456534 168.15831 \nL 153.138352 148.0037 \nL 165.82017 195.654373 \nL 178.501989 189.11382 \nL 191.183807 195.773163 \nL 203.865625 195.835329 \nL 216.547443 169.056963 \nL 229.229261 196.176235 \nL 241.91108 187.348347 \nL 254.592898 175.289047 \nL 267.274716 177.880576 \nL 279.956534 176.485422 \nL 292.638352 188.86804 \nL 305.32017 173.642507 \nL 318.001989 194.630577 \nL 330.683807 199.080927 \nL 343.365625 202.299291 \nL 356.047443 189.982087 \n\" style=\"fill:none;stroke:#1f77b4;stroke-linecap:square;stroke-width:1.5;\"/>\n   </g>\n   <g id=\"line2d_13\">\n    <path clip-path=\"url(#pd38d03e768)\" d=\"M 51.683807 17.083636 \nL 64.365625 44.767435 \nL 77.047443 96.34341 \nL 89.729261 151.014196 \nL 102.41108 169.64976 \nL 115.092898 202.250016 \nL 127.774716 193.839525 \nL 140.456534 124.365217 \nL 153.138352 179.436 \nL 165.82017 158.376626 \nL 178.501989 209.157109 \nL 191.183807 200.539882 \nL 203.865625 210.72119 \nL 216.547443 195.716431 \nL 229.229261 212.67999 \nL 241.91108 189.922076 \nL 254.592898 193.481577 \nL 267.274716 180.232108 \nL 279.956534 208.296711 \nL 292.638352 177.791707 \nL 305.32017 214.108762 \nL 318.001989 214.756364 \nL 330.683807 203.473752 \nL 343.365625 179.971957 \nL 356.047443 179.007714 \n\" style=\"fill:none;stroke:#ff7f0e;stroke-linecap:square;stroke-width:1.5;\"/>\n   </g>\n   <g id=\"patch_3\">\n    <path d=\"M 36.465625 224.64 \nL 36.465625 7.2 \n\" style=\"fill:none;stroke:#000000;stroke-linecap:square;stroke-linejoin:miter;stroke-width:0.8;\"/>\n   </g>\n   <g id=\"patch_4\">\n    <path d=\"M 371.265625 224.64 \nL 371.265625 7.2 \n\" style=\"fill:none;stroke:#000000;stroke-linecap:square;stroke-linejoin:miter;stroke-width:0.8;\"/>\n   </g>\n   <g id=\"patch_5\">\n    <path d=\"M 36.465625 224.64 \nL 371.265625 224.64 \n\" style=\"fill:none;stroke:#000000;stroke-linecap:square;stroke-linejoin:miter;stroke-width:0.8;\"/>\n   </g>\n   <g id=\"patch_6\">\n    <path d=\"M 36.465625 7.2 \nL 371.265625 7.2 \n\" style=\"fill:none;stroke:#000000;stroke-linecap:square;stroke-linejoin:miter;stroke-width:0.8;\"/>\n   </g>\n   <g id=\"legend_1\">\n    <g id=\"patch_7\">\n     <path d=\"M 257.771875 44.55625 \nL 364.265625 44.55625 \nQ 366.265625 44.55625 366.265625 42.55625 \nL 366.265625 14.2 \nQ 366.265625 12.2 364.265625 12.2 \nL 257.771875 12.2 \nQ 255.771875 12.2 255.771875 14.2 \nL 255.771875 42.55625 \nQ 255.771875 44.55625 257.771875 44.55625 \nz\n\" style=\"fill:#ffffff;opacity:0.8;stroke:#cccccc;stroke-linejoin:miter;\"/>\n    </g>\n    <g id=\"line2d_14\">\n     <path d=\"M 259.771875 20.298437 \nL 279.771875 20.298437 \n\" style=\"fill:none;stroke:#1f77b4;stroke-linecap:square;stroke-width:1.5;\"/>\n    </g>\n    <g id=\"line2d_15\"/>\n    <g id=\"text_12\">\n     <!-- Training Loss -->\n     <g transform=\"translate(287.771875 23.798437)scale(0.1 -0.1)\">\n      <defs>\n       <path d=\"M -19 4666 \nL 3928 4666 \nL 3928 4134 \nL 2272 4134 \nL 2272 0 \nL 1638 0 \nL 1638 4134 \nL -19 4134 \nL -19 4666 \nz\n\" id=\"DejaVuSans-54\" transform=\"scale(0.015625)\"/>\n       <path d=\"M 2631 2963 \nQ 2534 3019 2420 3045 \nQ 2306 3072 2169 3072 \nQ 1681 3072 1420 2755 \nQ 1159 2438 1159 1844 \nL 1159 0 \nL 581 0 \nL 581 3500 \nL 1159 3500 \nL 1159 2956 \nQ 1341 3275 1631 3429 \nQ 1922 3584 2338 3584 \nQ 2397 3584 2469 3576 \nQ 2541 3569 2628 3553 \nL 2631 2963 \nz\n\" id=\"DejaVuSans-72\" transform=\"scale(0.015625)\"/>\n       <path d=\"M 2194 1759 \nQ 1497 1759 1228 1600 \nQ 959 1441 959 1056 \nQ 959 750 1161 570 \nQ 1363 391 1709 391 \nQ 2188 391 2477 730 \nQ 2766 1069 2766 1631 \nL 2766 1759 \nL 2194 1759 \nz\nM 3341 1997 \nL 3341 0 \nL 2766 0 \nL 2766 531 \nQ 2569 213 2275 61 \nQ 1981 -91 1556 -91 \nQ 1019 -91 701 211 \nQ 384 513 384 1019 \nQ 384 1609 779 1909 \nQ 1175 2209 1959 2209 \nL 2766 2209 \nL 2766 2266 \nQ 2766 2663 2505 2880 \nQ 2244 3097 1772 3097 \nQ 1472 3097 1187 3025 \nQ 903 2953 641 2809 \nL 641 3341 \nQ 956 3463 1253 3523 \nQ 1550 3584 1831 3584 \nQ 2591 3584 2966 3190 \nQ 3341 2797 3341 1997 \nz\n\" id=\"DejaVuSans-61\" transform=\"scale(0.015625)\"/>\n       <path d=\"M 603 3500 \nL 1178 3500 \nL 1178 0 \nL 603 0 \nL 603 3500 \nz\nM 603 4863 \nL 1178 4863 \nL 1178 4134 \nL 603 4134 \nL 603 4863 \nz\n\" id=\"DejaVuSans-69\" transform=\"scale(0.015625)\"/>\n       <path d=\"M 3513 2113 \nL 3513 0 \nL 2938 0 \nL 2938 2094 \nQ 2938 2591 2744 2837 \nQ 2550 3084 2163 3084 \nQ 1697 3084 1428 2787 \nQ 1159 2491 1159 1978 \nL 1159 0 \nL 581 0 \nL 581 3500 \nL 1159 3500 \nL 1159 2956 \nQ 1366 3272 1645 3428 \nQ 1925 3584 2291 3584 \nQ 2894 3584 3203 3211 \nQ 3513 2838 3513 2113 \nz\n\" id=\"DejaVuSans-6e\" transform=\"scale(0.015625)\"/>\n       <path d=\"M 2906 1791 \nQ 2906 2416 2648 2759 \nQ 2391 3103 1925 3103 \nQ 1463 3103 1205 2759 \nQ 947 2416 947 1791 \nQ 947 1169 1205 825 \nQ 1463 481 1925 481 \nQ 2391 481 2648 825 \nQ 2906 1169 2906 1791 \nz\nM 3481 434 \nQ 3481 -459 3084 -895 \nQ 2688 -1331 1869 -1331 \nQ 1566 -1331 1297 -1286 \nQ 1028 -1241 775 -1147 \nL 775 -588 \nQ 1028 -725 1275 -790 \nQ 1522 -856 1778 -856 \nQ 2344 -856 2625 -561 \nQ 2906 -266 2906 331 \nL 2906 616 \nQ 2728 306 2450 153 \nQ 2172 0 1784 0 \nQ 1141 0 747 490 \nQ 353 981 353 1791 \nQ 353 2603 747 3093 \nQ 1141 3584 1784 3584 \nQ 2172 3584 2450 3431 \nQ 2728 3278 2906 2969 \nL 2906 3500 \nL 3481 3500 \nL 3481 434 \nz\n\" id=\"DejaVuSans-67\" transform=\"scale(0.015625)\"/>\n       <path id=\"DejaVuSans-20\" transform=\"scale(0.015625)\"/>\n       <path d=\"M 628 4666 \nL 1259 4666 \nL 1259 531 \nL 3531 531 \nL 3531 0 \nL 628 0 \nL 628 4666 \nz\n\" id=\"DejaVuSans-4c\" transform=\"scale(0.015625)\"/>\n       <path d=\"M 1959 3097 \nQ 1497 3097 1228 2736 \nQ 959 2375 959 1747 \nQ 959 1119 1226 758 \nQ 1494 397 1959 397 \nQ 2419 397 2687 759 \nQ 2956 1122 2956 1747 \nQ 2956 2369 2687 2733 \nQ 2419 3097 1959 3097 \nz\nM 1959 3584 \nQ 2709 3584 3137 3096 \nQ 3566 2609 3566 1747 \nQ 3566 888 3137 398 \nQ 2709 -91 1959 -91 \nQ 1206 -91 779 398 \nQ 353 888 353 1747 \nQ 353 2609 779 3096 \nQ 1206 3584 1959 3584 \nz\n\" id=\"DejaVuSans-6f\" transform=\"scale(0.015625)\"/>\n       <path d=\"M 2834 3397 \nL 2834 2853 \nQ 2591 2978 2328 3040 \nQ 2066 3103 1784 3103 \nQ 1356 3103 1142 2972 \nQ 928 2841 928 2578 \nQ 928 2378 1081 2264 \nQ 1234 2150 1697 2047 \nL 1894 2003 \nQ 2506 1872 2764 1633 \nQ 3022 1394 3022 966 \nQ 3022 478 2636 193 \nQ 2250 -91 1575 -91 \nQ 1294 -91 989 -36 \nQ 684 19 347 128 \nL 347 722 \nQ 666 556 975 473 \nQ 1284 391 1588 391 \nQ 1994 391 2212 530 \nQ 2431 669 2431 922 \nQ 2431 1156 2273 1281 \nQ 2116 1406 1581 1522 \nL 1381 1569 \nQ 847 1681 609 1914 \nQ 372 2147 372 2553 \nQ 372 3047 722 3315 \nQ 1072 3584 1716 3584 \nQ 2034 3584 2315 3537 \nQ 2597 3491 2834 3397 \nz\n\" id=\"DejaVuSans-73\" transform=\"scale(0.015625)\"/>\n      </defs>\n      <use xlink:href=\"#DejaVuSans-54\"/>\n      <use x=\"46.333984\" xlink:href=\"#DejaVuSans-72\"/>\n      <use x=\"87.447266\" xlink:href=\"#DejaVuSans-61\"/>\n      <use x=\"148.726562\" xlink:href=\"#DejaVuSans-69\"/>\n      <use x=\"176.509766\" xlink:href=\"#DejaVuSans-6e\"/>\n      <use x=\"239.888672\" xlink:href=\"#DejaVuSans-69\"/>\n      <use x=\"267.671875\" xlink:href=\"#DejaVuSans-6e\"/>\n      <use x=\"331.050781\" xlink:href=\"#DejaVuSans-67\"/>\n      <use x=\"394.527344\" xlink:href=\"#DejaVuSans-20\"/>\n      <use x=\"426.314453\" xlink:href=\"#DejaVuSans-4c\"/>\n      <use x=\"480.277344\" xlink:href=\"#DejaVuSans-6f\"/>\n      <use x=\"541.458984\" xlink:href=\"#DejaVuSans-73\"/>\n      <use x=\"593.558594\" xlink:href=\"#DejaVuSans-73\"/>\n     </g>\n    </g>\n    <g id=\"line2d_16\">\n     <path d=\"M 259.771875 34.976562 \nL 279.771875 34.976562 \n\" style=\"fill:none;stroke:#ff7f0e;stroke-linecap:square;stroke-width:1.5;\"/>\n    </g>\n    <g id=\"line2d_17\"/>\n    <g id=\"text_13\">\n     <!-- Validation Loss -->\n     <g transform=\"translate(287.771875 38.476562)scale(0.1 -0.1)\">\n      <defs>\n       <path d=\"M 1831 0 \nL 50 4666 \nL 709 4666 \nL 2188 738 \nL 3669 4666 \nL 4325 4666 \nL 2547 0 \nL 1831 0 \nz\n\" id=\"DejaVuSans-56\" transform=\"scale(0.015625)\"/>\n       <path d=\"M 603 4863 \nL 1178 4863 \nL 1178 0 \nL 603 0 \nL 603 4863 \nz\n\" id=\"DejaVuSans-6c\" transform=\"scale(0.015625)\"/>\n       <path d=\"M 2906 2969 \nL 2906 4863 \nL 3481 4863 \nL 3481 0 \nL 2906 0 \nL 2906 525 \nQ 2725 213 2448 61 \nQ 2172 -91 1784 -91 \nQ 1150 -91 751 415 \nQ 353 922 353 1747 \nQ 353 2572 751 3078 \nQ 1150 3584 1784 3584 \nQ 2172 3584 2448 3432 \nQ 2725 3281 2906 2969 \nz\nM 947 1747 \nQ 947 1113 1208 752 \nQ 1469 391 1925 391 \nQ 2381 391 2643 752 \nQ 2906 1113 2906 1747 \nQ 2906 2381 2643 2742 \nQ 2381 3103 1925 3103 \nQ 1469 3103 1208 2742 \nQ 947 2381 947 1747 \nz\n\" id=\"DejaVuSans-64\" transform=\"scale(0.015625)\"/>\n       <path d=\"M 1172 4494 \nL 1172 3500 \nL 2356 3500 \nL 2356 3053 \nL 1172 3053 \nL 1172 1153 \nQ 1172 725 1289 603 \nQ 1406 481 1766 481 \nL 2356 481 \nL 2356 0 \nL 1766 0 \nQ 1100 0 847 248 \nQ 594 497 594 1153 \nL 594 3053 \nL 172 3053 \nL 172 3500 \nL 594 3500 \nL 594 4494 \nL 1172 4494 \nz\n\" id=\"DejaVuSans-74\" transform=\"scale(0.015625)\"/>\n      </defs>\n      <use xlink:href=\"#DejaVuSans-56\"/>\n      <use x=\"60.658203\" xlink:href=\"#DejaVuSans-61\"/>\n      <use x=\"121.9375\" xlink:href=\"#DejaVuSans-6c\"/>\n      <use x=\"149.720703\" xlink:href=\"#DejaVuSans-69\"/>\n      <use x=\"177.503906\" xlink:href=\"#DejaVuSans-64\"/>\n      <use x=\"240.980469\" xlink:href=\"#DejaVuSans-61\"/>\n      <use x=\"302.259766\" xlink:href=\"#DejaVuSans-74\"/>\n      <use x=\"341.46875\" xlink:href=\"#DejaVuSans-69\"/>\n      <use x=\"369.251953\" xlink:href=\"#DejaVuSans-6f\"/>\n      <use x=\"430.433594\" xlink:href=\"#DejaVuSans-6e\"/>\n      <use x=\"493.8125\" xlink:href=\"#DejaVuSans-20\"/>\n      <use x=\"525.599609\" xlink:href=\"#DejaVuSans-4c\"/>\n      <use x=\"579.5625\" xlink:href=\"#DejaVuSans-6f\"/>\n      <use x=\"640.744141\" xlink:href=\"#DejaVuSans-73\"/>\n      <use x=\"692.84375\" xlink:href=\"#DejaVuSans-73\"/>\n     </g>\n    </g>\n   </g>\n  </g>\n </g>\n <defs>\n  <clipPath id=\"pd38d03e768\">\n   <rect height=\"217.44\" width=\"334.8\" x=\"36.465625\" y=\"7.2\"/>\n  </clipPath>\n </defs>\n</svg>\n",
      "image/png": "[encoded data removed]"
     },
     "metadata": {
      "needs_background": "light"
     }
    }
   ],
   "source": [
    "plt.plot(history.history['loss'], label='Training Loss')\n",
    "plt.plot(history.history['val_loss'], label='Validation Loss')\n",
    "plt.legend()"
   ]
  },
  {
   "source": [
    "## Load test data"
   ],
   "cell_type": "markdown",
   "metadata": {}
  },
  {
   "cell_type": "code",
   "execution_count": 63,
   "metadata": {},
   "outputs": [
    {
     "output_type": "stream",
     "name": "stdout",
     "text": [
      "train_data[CLOSE].shape: (1917,)\ntest_data[CLOSE].shape: (313,)\ntotal_dataset.shape (2230,) <class 'pandas.core.series.Series'>\nstart_index: 1887\n"
     ]
    }
   ],
   "source": [
    "test_start = dt.datetime(2020,1,1)\n",
    "test_end = dt.datetime.now() - dt.timedelta(days=1)\n",
    "\n",
    "test_data = web.DataReader(company, 'yahoo', test_start, test_end)\n",
    "y_test = test_data[CLOSE].values\n",
    "print(f\"train_data[CLOSE].shape: {train_data[CLOSE].shape}\")\n",
    "print(f\"test_data[CLOSE].shape: {test_data[CLOSE].shape}\")\n",
    "\n",
    "total_dataset = pd.concat((train_data[CLOSE], test_data[CLOSE]), axis=ROW_AXIS)\n",
    "print(\"total_dataset.shape\", total_dataset.shape, type(total_dataset))\n",
    "start_index = len(total_dataset) - len(test_data) - prediction_days\n",
    "print(f\"start_index: {start_index}\")\n",
    "\n",
    "# model_inputs is a list\n",
    "model_inputs = total_dataset[start_index:].values\n",
    "model_inputs_date = total_dataset[start_index:].index\n",
    "# print(\"total_dataset[start_index:].values\", model_inputs.shape, model_inputs[:-1])\n",
    "\n",
    "# model_inputs is a column\n",
    "model_inputs = model_inputs.reshape(-1,1)\n",
    "# print(\"model_inputs.reshape(-1,1)\", model_inputs.shape, model_inputs[:-1])\n",
    "\n",
    "# model_input is a column of scaled values\n",
    "model_inputs = scalar.transform(model_inputs)\n",
    "# print(\"scalar.transform(model_inputs)\", model_inputs.shape, model_inputs[:-1])"
   ]
  },
  {
   "source": [
    "## Make predictions on test data"
   ],
   "cell_type": "markdown",
   "metadata": {}
  },
  {
   "cell_type": "code",
   "execution_count": 64,
   "metadata": {},
   "outputs": [
    {
     "output_type": "stream",
     "name": "stdout",
     "text": [
      "x_test: row: 313 col: 30\n"
     ]
    }
   ],
   "source": [
    "x_test = []\n",
    "x_test_date = []\n",
    "# show the previous 30 days shown as input on the plot\n",
    "for x in range(prediction_days, len(model_inputs)):\n",
    "    x_test.append(model_inputs[x-prediction_days:x, 0])\n",
    "    x_test_date.append(model_inputs_date[x])\n",
    "\n",
    "x_test = list_to_np_array(x_test, \"x_test\")\n",
    "\n",
    "predicted_prices = model.predict(x_test)\n",
    "# reverse the scaling\n",
    "predicted_prices = scalar.inverse_transform(predicted_prices)\n"
   ]
  },
  {
   "source": [
    "## Plot test predictions"
   ],
   "cell_type": "markdown",
   "metadata": {}
  },
  {
   "cell_type": "code",
   "execution_count": 65,
   "metadata": {},
   "outputs": [
    {
     "output_type": "display_data",
     "data": {
      "application/vnd.plotly.v1+json": {
       "config": {
        "plotlyServerURL": "https://plot.ly"
       },
       "data": [
        {
         "name": "predicted",
         "type": "scatter",
         "x": [
          "2020-01-02T00:00:00",
          "2020-01-03T00:00:00",
          "2020-01-06T00:00:00",
          "2020-01-07T00:00:00",
          "2020-01-08T00:00:00",
          "2020-01-09T00:00:00",
          "2020-01-10T00:00:00",
          "2020-01-13T00:00:00",
          "2020-01-14T00:00:00",
          "2020-01-15T00:00:00",
          "2020-01-16T00:00:00",
          "2020-01-17T00:00:00",
          "2020-01-21T00:00:00",
          "2020-01-22T00:00:00",
          "2020-01-23T00:00:00",
          "2020-01-24T00:00:00",
          "2020-01-27T00:00:00",
          "2020-01-28T00:00:00",
          "2020-01-29T00:00:00",
          "2020-01-30T00:00:00",
          "2020-01-31T00:00:00",
          "2020-02-03T00:00:00",
          "2020-02-04T00:00:00",
          "2020-02-05T00:00:00",
          "2020-02-06T00:00:00",
          "2020-02-07T00:00:00",
          "2020-02-10T00:00:00",
          "2020-02-11T00:00:00",
          "2020-02-12T00:00:00",
          "2020-02-13T00:00:00",
          "2020-02-14T00:00:00",
          "2020-02-18T00:00:00",
          "2020-02-19T00:00:00",
          "2020-02-20T00:00:00",
          "2020-02-21T00:00:00",
          "2020-02-24T00:00:00",
          "2020-02-25T00:00:00",
          "2020-02-26T00:00:00",
          "2020-02-27T00:00:00",
          "2020-02-28T00:00:00",
          "2020-03-02T00:00:00",
          "2020-03-03T00:00:00",
          "2020-03-04T00:00:00",
          "2020-03-05T00:00:00",
          "2020-03-06T00:00:00",
          "2020-03-09T00:00:00",
          "2020-03-10T00:00:00",
          "2020-03-11T00:00:00",
          "2020-03-12T00:00:00",
          "2020-03-13T00:00:00",
          "2020-03-16T00:00:00",
          "2020-03-17T00:00:00",
          "2020-03-18T00:00:00",
          "2020-03-19T00:00:00",
          "2020-03-20T00:00:00",
          "2020-03-23T00:00:00",
          "2020-03-24T00:00:00",
          "2020-03-25T00:00:00",
          "2020-03-26T00:00:00",
          "2020-03-27T00:00:00",
          "2020-03-30T00:00:00",
          "2020-03-31T00:00:00",
          "2020-04-01T00:00:00",
          "2020-04-02T00:00:00",
          "2020-04-03T00:00:00",
          "2020-04-06T00:00:00",
          "2020-04-07T00:00:00",
          "2020-04-08T00:00:00",
          "2020-04-09T00:00:00",
          "2020-04-13T00:00:00",
          "2020-04-14T00:00:00",
          "2020-04-15T00:00:00",
          "2020-04-16T00:00:00",
          "2020-04-17T00:00:00",
          "2020-04-20T00:00:00",
          "2020-04-21T00:00:00",
          "2020-04-22T00:00:00",
          "2020-04-23T00:00:00",
          "2020-04-24T00:00:00",
          "2020-04-27T00:00:00",
          "2020-04-28T00:00:00",
          "2020-04-29T00:00:00",
          "2020-04-30T00:00:00",
          "2020-05-01T00:00:00",
          "2020-05-04T00:00:00",
          "2020-05-05T00:00:00",
          "2020-05-06T00:00:00",
          "2020-05-07T00:00:00",
          "2020-05-08T00:00:00",
          "2020-05-11T00:00:00",
          "2020-05-12T00:00:00",
          "2020-05-13T00:00:00",
          "2020-05-14T00:00:00",
          "2020-05-15T00:00:00",
          "2020-05-18T00:00:00",
          "2020-05-19T00:00:00",
          "2020-05-20T00:00:00",
          "2020-05-21T00:00:00",
          "2020-05-22T00:00:00",
          "2020-05-26T00:00:00",
          "2020-05-27T00:00:00",
          "2020-05-28T00:00:00",
          "2020-05-29T00:00:00",
          "2020-06-01T00:00:00",
          "2020-06-02T00:00:00",
          "2020-06-03T00:00:00",
          "2020-06-04T00:00:00",
          "2020-06-05T00:00:00",
          "2020-06-08T00:00:00",
          "2020-06-09T00:00:00",
          "2020-06-10T00:00:00",
          "2020-06-11T00:00:00",
          "2020-06-12T00:00:00",
          "2020-06-15T00:00:00",
          "2020-06-16T00:00:00",
          "2020-06-17T00:00:00",
          "2020-06-18T00:00:00",
          "2020-06-19T00:00:00",
          "2020-06-22T00:00:00",
          "2020-06-23T00:00:00",
          "2020-06-24T00:00:00",
          "2020-06-25T00:00:00",
          "2020-06-26T00:00:00",
          "2020-06-29T00:00:00",
          "2020-06-30T00:00:00",
          "2020-07-01T00:00:00",
          "2020-07-02T00:00:00",
          "2020-07-06T00:00:00",
          "2020-07-07T00:00:00",
          "2020-07-08T00:00:00",
          "2020-07-09T00:00:00",
          "2020-07-10T00:00:00",
          "2020-07-13T00:00:00",
          "2020-07-14T00:00:00",
          "2020-07-15T00:00:00",
          "2020-07-16T00:00:00",
          "2020-07-17T00:00:00",
          "2020-07-20T00:00:00",
          "2020-07-21T00:00:00",
          "2020-07-22T00:00:00",
          "2020-07-23T00:00:00",
          "2020-07-24T00:00:00",
          "2020-07-27T00:00:00",
          "2020-07-28T00:00:00",
          "2020-07-29T00:00:00",
          "2020-07-30T00:00:00",
          "2020-07-31T00:00:00",
          "2020-08-03T00:00:00",
          "2020-08-04T00:00:00",
          "2020-08-05T00:00:00",
          "2020-08-06T00:00:00",
          "2020-08-07T00:00:00",
          "2020-08-10T00:00:00",
          "2020-08-11T00:00:00",
          "2020-08-12T00:00:00",
          "2020-08-13T00:00:00",
          "2020-08-14T00:00:00",
          "2020-08-17T00:00:00",
          "2020-08-18T00:00:00",
          "2020-08-19T00:00:00",
          "2020-08-20T00:00:00",
          "2020-08-21T00:00:00",
          "2020-08-24T00:00:00",
          "2020-08-25T00:00:00",
          "2020-08-26T00:00:00",
          "2020-08-27T00:00:00",
          "2020-08-28T00:00:00",
          "2020-08-31T00:00:00",
          "2020-09-01T00:00:00",
          "2020-09-02T00:00:00",
          "2020-09-03T00:00:00",
          "2020-09-04T00:00:00",
          "2020-09-08T00:00:00",
          "2020-09-09T00:00:00",
          "2020-09-10T00:00:00",
          "2020-09-11T00:00:00",
          "2020-09-14T00:00:00",
          "2020-09-15T00:00:00",
          "2020-09-16T00:00:00",
          "2020-09-17T00:00:00",
          "2020-09-18T00:00:00",
          "2020-09-21T00:00:00",
          "2020-09-22T00:00:00",
          "2020-09-23T00:00:00",
          "2020-09-24T00:00:00",
          "2020-09-25T00:00:00",
          "2020-09-28T00:00:00",
          "2020-09-29T00:00:00",
          "2020-09-30T00:00:00",
          "2020-10-01T00:00:00",
          "2020-10-02T00:00:00",
          "2020-10-05T00:00:00",
          "2020-10-06T00:00:00",
          "2020-10-07T00:00:00",
          "2020-10-08T00:00:00",
          "2020-10-09T00:00:00",
          "2020-10-12T00:00:00",
          "2020-10-13T00:00:00",
          "2020-10-14T00:00:00",
          "2020-10-15T00:00:00",
          "2020-10-16T00:00:00",
          "2020-10-19T00:00:00",
          "2020-10-20T00:00:00",
          "2020-10-21T00:00:00",
          "2020-10-22T00:00:00",
          "2020-10-23T00:00:00",
          "2020-10-26T00:00:00",
          "2020-10-27T00:00:00",
          "2020-10-28T00:00:00",
          "2020-10-29T00:00:00",
          "2020-10-30T00:00:00",
          "2020-11-02T00:00:00",
          "2020-11-03T00:00:00",
          "2020-11-04T00:00:00",
          "2020-11-05T00:00:00",
          "2020-11-06T00:00:00",
          "2020-11-09T00:00:00",
          "2020-11-10T00:00:00",
          "2020-11-11T00:00:00",
          "2020-11-12T00:00:00",
          "2020-11-13T00:00:00",
          "2020-11-16T00:00:00",
          "2020-11-17T00:00:00",
          "2020-11-18T00:00:00",
          "2020-11-19T00:00:00",
          "2020-11-20T00:00:00",
          "2020-11-23T00:00:00",
          "2020-11-24T00:00:00",
          "2020-11-25T00:00:00",
          "2020-11-27T00:00:00",
          "2020-11-30T00:00:00",
          "2020-12-01T00:00:00",
          "2020-12-02T00:00:00",
          "2020-12-03T00:00:00",
          "2020-12-04T00:00:00",
          "2020-12-07T00:00:00",
          "2020-12-08T00:00:00",
          "2020-12-09T00:00:00",
          "2020-12-10T00:00:00",
          "2020-12-11T00:00:00",
          "2020-12-14T00:00:00",
          "2020-12-15T00:00:00",
          "2020-12-16T00:00:00",
          "2020-12-17T00:00:00",
          "2020-12-18T00:00:00",
          "2020-12-21T00:00:00",
          "2020-12-22T00:00:00",
          "2020-12-23T00:00:00",
          "2020-12-24T00:00:00",
          "2020-12-28T00:00:00",
          "2020-12-29T00:00:00",
          "2020-12-30T00:00:00",
          "2020-12-31T00:00:00",
          "2021-01-04T00:00:00",
          "2021-01-05T00:00:00",
          "2021-01-06T00:00:00",
          "2021-01-07T00:00:00",
          "2021-01-08T00:00:00",
          "2021-01-11T00:00:00",
          "2021-01-12T00:00:00",
          "2021-01-13T00:00:00",
          "2021-01-14T00:00:00",
          "2021-01-15T00:00:00",
          "2021-01-19T00:00:00",
          "2021-01-20T00:00:00",
          "2021-01-21T00:00:00",
          "2021-01-22T00:00:00",
          "2021-01-25T00:00:00",
          "2021-01-26T00:00:00",
          "2021-01-27T00:00:00",
          "2021-01-28T00:00:00",
          "2021-01-29T00:00:00",
          "2021-02-01T00:00:00",
          "2021-02-02T00:00:00",
          "2021-02-03T00:00:00",
          "2021-02-04T00:00:00",
          "2021-02-05T00:00:00",
          "2021-02-08T00:00:00",
          "2021-02-09T00:00:00",
          "2021-02-10T00:00:00",
          "2021-02-11T00:00:00",
          "2021-02-12T00:00:00",
          "2021-02-16T00:00:00",
          "2021-02-17T00:00:00",
          "2021-02-18T00:00:00",
          "2021-02-19T00:00:00",
          "2021-02-22T00:00:00",
          "2021-02-23T00:00:00",
          "2021-02-24T00:00:00",
          "2021-02-25T00:00:00",
          "2021-02-26T00:00:00",
          "2021-03-01T00:00:00",
          "2021-03-02T00:00:00",
          "2021-03-03T00:00:00",
          "2021-03-04T00:00:00",
          "2021-03-05T00:00:00",
          "2021-03-08T00:00:00",
          "2021-03-09T00:00:00",
          "2021-03-10T00:00:00",
          "2021-03-11T00:00:00",
          "2021-03-12T00:00:00",
          "2021-03-15T00:00:00",
          "2021-03-16T00:00:00",
          "2021-03-17T00:00:00",
          "2021-03-18T00:00:00",
          "2021-03-19T00:00:00",
          "2021-03-22T00:00:00",
          "2021-03-23T00:00:00",
          "2021-03-24T00:00:00",
          "2021-03-25T00:00:00",
          "2021-03-26T00:00:00",
          "2021-03-29T00:00:00",
          "2021-03-30T00:00:00"
         ],
         "y": [
          193.68405151367188,
          194.14804077148438,
          194.61351013183594,
          195.16294860839844,
          195.80059814453125,
          196.54156494140625,
          197.42196655273438,
          198.38694763183594,
          199.4652862548828,
          200.53378295898438,
          201.57025146484375,
          202.55775451660156,
          203.4787139892578,
          204.2957000732422,
          204.99053955078125,
          205.52415466308594,
          205.8579864501953,
          205.9387664794922,
          205.87136840820312,
          205.8608856201172,
          205.63113403320312,
          204.95245361328125,
          203.9244842529297,
          202.8289794921875,
          201.8169403076172,
          200.9700164794922,
          200.34278869628906,
          199.94410705566406,
          199.5908203125,
          199.30984497070312,
          199.16615295410156,
          199.18190002441406,
          199.41763305664062,
          199.8311767578125,
          200.28070068359375,
          200.58718872070312,
          200.47714233398438,
          199.85377502441406,
          198.82887268066406,
          197.36923217773438,
          195.67050170898438,
          194.0054168701172,
          192.23924255371094,
          190.55081176757812,
          188.86746215820312,
          187.1048583984375,
          184.99905395507812,
          182.82705688476562,
          180.55540466308594,
          177.83395385742188,
          175.146240234375,
          172.0719451904297,
          168.7329864501953,
          165.26278686523438,
          162.0142059326172,
          159.06732177734375,
          156.42990112304688,
          154.4954071044922,
          153.16709899902344,
          152.53314208984375,
          152.2964630126953,
          152.545166015625,
          153.2175750732422,
          153.9624481201172,
          154.58078002929688,
          154.89747619628906,
          155.24244689941406,
          155.8061065673828,
          156.74354553222656,
          158.01422119140625,
          159.47804260253906,
          161.09242248535156,
          162.7161102294922,
          164.23146057128906,
          165.65414428710938,
          166.93687438964844,
          167.84066772460938,
          168.67221069335938,
          169.59628295898438,
          170.7532196044922,
          172.03512573242188,
          173.19366455078125,
          174.4600067138672,
          176.12997436523438,
          178.0870819091797,
          180.23817443847656,
          182.4860076904297,
          184.74147033691406,
          186.9664306640625,
          189.11448669433594,
          191.13363647460938,
          192.89508056640625,
          194.22576904296875,
          195.16619873046875,
          195.89425659179688,
          196.55091857910156,
          197.2748565673828,
          198.40093994140625,
          199.94862365722656,
          201.85926818847656,
          203.89907836914062,
          205.8192138671875,
          207.41290283203125,
          208.62705993652344,
          209.65646362304688,
          210.59368896484375,
          211.3963165283203,
          211.96739196777344,
          212.4104766845703,
          212.79298400878906,
          213.30661010742188,
          213.92544555664062,
          214.31077575683594,
          214.482666015625,
          214.58349609375,
          214.74905395507812,
          215.00119018554688,
          215.328369140625,
          215.76609802246094,
          216.297607421875,
          216.94818115234375,
          217.4897918701172,
          217.88836669921875,
          217.7073211669922,
          217.03016662597656,
          216.1693878173828,
          215.54151916503906,
          215.16329956054688,
          215.14852905273438,
          215.4730224609375,
          216.101318359375,
          216.9550018310547,
          217.9418182373047,
          218.83164978027344,
          219.55813598632812,
          220.12619018554688,
          220.56948852539062,
          220.9380645751953,
          221.33193969726562,
          221.6833038330078,
          221.9251708984375,
          221.8871307373047,
          221.52874755859375,
          220.9862518310547,
          220.2861328125,
          219.56251525878906,
          218.9173583984375,
          218.82479858398438,
          219.29132080078125,
          220.12100219726562,
          221.1243896484375,
          222.52578735351562,
          224.33876037597656,
          226.2827606201172,
          228.02761840820312,
          229.53408813476562,
          230.83070373535156,
          231.9279022216797,
          232.8408966064453,
          233.60971069335938,
          234.2626495361328,
          234.94618225097656,
          235.64208984375,
          236.4034423828125,
          237.40518188476562,
          239.08216857910156,
          241.1557159423828,
          243.36412048339844,
          245.5148468017578,
          247.52841186523438,
          249.47837829589844,
          251.13331604003906,
          252.270751953125,
          252.6910400390625,
          252.5135955810547,
          251.82102966308594,
          250.73654174804688,
          249.4140167236328,
          248.1078643798828,
          246.777587890625,
          245.2742919921875,
          243.58349609375,
          241.7008819580078,
          239.84823608398438,
          238.04147338867188,
          236.3336181640625,
          234.88368225097656,
          233.7789306640625,
          233.1103057861328,
          232.83798217773438,
          232.96566772460938,
          233.26553344726562,
          233.70460510253906,
          234.1104278564453,
          234.4051055908203,
          234.70082092285156,
          235.0357208251953,
          235.6382598876953,
          236.51690673828125,
          237.49099731445312,
          238.3440704345703,
          238.984619140625,
          239.32315063476562,
          239.5066375732422,
          239.8450927734375,
          240.384521484375,
          241.2045135498047,
          242.09408569335938,
          243.0532989501953,
          243.73716735839844,
          244.31480407714844,
          244.5242462158203,
          244.29876708984375,
          243.8050537109375,
          243.60287475585938,
          243.9776611328125,
          244.8489227294922,
          245.7626495361328,
          246.40249633789062,
          246.78524780273438,
          246.9431610107422,
          246.96170043945312,
          246.94309997558594,
          246.85243225097656,
          246.63661193847656,
          246.33103942871094,
          245.9155731201172,
          245.39501953125,
          244.97129821777344,
          244.68515014648438,
          244.5656280517578,
          244.576171875,
          244.85655212402344,
          245.4115447998047,
          246.05064392089844,
          246.62445068359375,
          247.19554138183594,
          247.72850036621094,
          248.09967041015625,
          248.26976013183594,
          248.2075653076172,
          247.957275390625,
          247.61587524414062,
          247.2488555908203,
          246.87498474121094,
          246.54507446289062,
          246.2093048095703,
          245.74728393554688,
          245.1795196533203,
          244.5445098876953,
          244.0720977783203,
          243.82272338867188,
          243.67376708984375,
          243.587158203125,
          243.4611053466797,
          243.3106231689453,
          243.00401306152344,
          242.64105224609375,
          242.26559448242188,
          241.6886749267578,
          240.78775024414062,
          239.62905883789062,
          238.2083282470703,
          236.73118591308594,
          235.53079223632812,
          234.8335418701172,
          234.73849487304688,
          235.17800903320312,
          236.0643310546875,
          237.32162475585938,
          238.59915161132812,
          239.58831787109375,
          240.08999633789062,
          240.20382690429688,
          240.15196228027344,
          240.04029846191406,
          239.9135284423828,
          239.82586669921875,
          239.76141357421875,
          239.76626586914062,
          239.89349365234375,
          240.09722900390625,
          240.33863830566406,
          240.66015625,
          241.04025268554688,
          241.36390686035156,
          241.43594360351562,
          241.22048950195312,
          240.8858184814453,
          240.49664306640625,
          239.9036865234375,
          239.1725311279297,
          238.52938842773438,
          237.93711853027344,
          237.30960083007812,
          236.6898956298828,
          236.24900817871094,
          235.8369903564453,
          235.6165008544922,
          235.599853515625,
          235.9221649169922,
          236.43678283691406,
          237.1366729736328,
          238.07447814941406,
          239.27774047851562,
          240.54733276367188,
          241.9829559326172,
          243.60772705078125,
          245.2713165283203,
          246.69879150390625,
          247.74136352539062,
          248.48658752441406,
          249.15765380859375
         ]
        },
        {
         "name": "actual",
         "type": "scatter",
         "x": [
          "2020-01-02T00:00:00",
          "2020-01-03T00:00:00",
          "2020-01-06T00:00:00",
          "2020-01-07T00:00:00",
          "2020-01-08T00:00:00",
          "2020-01-09T00:00:00",
          "2020-01-10T00:00:00",
          "2020-01-13T00:00:00",
          "2020-01-14T00:00:00",
          "2020-01-15T00:00:00",
          "2020-01-16T00:00:00",
          "2020-01-17T00:00:00",
          "2020-01-21T00:00:00",
          "2020-01-22T00:00:00",
          "2020-01-23T00:00:00",
          "2020-01-24T00:00:00",
          "2020-01-27T00:00:00",
          "2020-01-28T00:00:00",
          "2020-01-29T00:00:00",
          "2020-01-30T00:00:00",
          "2020-01-31T00:00:00",
          "2020-02-03T00:00:00",
          "2020-02-04T00:00:00",
          "2020-02-05T00:00:00",
          "2020-02-06T00:00:00",
          "2020-02-07T00:00:00",
          "2020-02-10T00:00:00",
          "2020-02-11T00:00:00",
          "2020-02-12T00:00:00",
          "2020-02-13T00:00:00",
          "2020-02-14T00:00:00",
          "2020-02-18T00:00:00",
          "2020-02-19T00:00:00",
          "2020-02-20T00:00:00",
          "2020-02-21T00:00:00",
          "2020-02-24T00:00:00",
          "2020-02-25T00:00:00",
          "2020-02-26T00:00:00",
          "2020-02-27T00:00:00",
          "2020-02-28T00:00:00",
          "2020-03-02T00:00:00",
          "2020-03-03T00:00:00",
          "2020-03-04T00:00:00",
          "2020-03-05T00:00:00",
          "2020-03-06T00:00:00",
          "2020-03-09T00:00:00",
          "2020-03-10T00:00:00",
          "2020-03-11T00:00:00",
          "2020-03-12T00:00:00",
          "2020-03-13T00:00:00",
          "2020-03-16T00:00:00",
          "2020-03-17T00:00:00",
          "2020-03-18T00:00:00",
          "2020-03-19T00:00:00",
          "2020-03-20T00:00:00",
          "2020-03-23T00:00:00",
          "2020-03-24T00:00:00",
          "2020-03-25T00:00:00",
          "2020-03-26T00:00:00",
          "2020-03-27T00:00:00",
          "2020-03-30T00:00:00",
          "2020-03-31T00:00:00",
          "2020-04-01T00:00:00",
          "2020-04-02T00:00:00",
          "2020-04-03T00:00:00",
          "2020-04-06T00:00:00",
          "2020-04-07T00:00:00",
          "2020-04-08T00:00:00",
          "2020-04-09T00:00:00",
          "2020-04-13T00:00:00",
          "2020-04-14T00:00:00",
          "2020-04-15T00:00:00",
          "2020-04-16T00:00:00",
          "2020-04-17T00:00:00",
          "2020-04-20T00:00:00",
          "2020-04-21T00:00:00",
          "2020-04-22T00:00:00",
          "2020-04-23T00:00:00",
          "2020-04-24T00:00:00",
          "2020-04-27T00:00:00",
          "2020-04-28T00:00:00",
          "2020-04-29T00:00:00",
          "2020-04-30T00:00:00",
          "2020-05-01T00:00:00",
          "2020-05-04T00:00:00",
          "2020-05-05T00:00:00",
          "2020-05-06T00:00:00",
          "2020-05-07T00:00:00",
          "2020-05-08T00:00:00",
          "2020-05-11T00:00:00",
          "2020-05-12T00:00:00",
          "2020-05-13T00:00:00",
          "2020-05-14T00:00:00",
          "2020-05-15T00:00:00",
          "2020-05-18T00:00:00",
          "2020-05-19T00:00:00",
          "2020-05-20T00:00:00",
          "2020-05-21T00:00:00",
          "2020-05-22T00:00:00",
          "2020-05-26T00:00:00",
          "2020-05-27T00:00:00",
          "2020-05-28T00:00:00",
          "2020-05-29T00:00:00",
          "2020-06-01T00:00:00",
          "2020-06-02T00:00:00",
          "2020-06-03T00:00:00",
          "2020-06-04T00:00:00",
          "2020-06-05T00:00:00",
          "2020-06-08T00:00:00",
          "2020-06-09T00:00:00",
          "2020-06-10T00:00:00",
          "2020-06-11T00:00:00",
          "2020-06-12T00:00:00",
          "2020-06-15T00:00:00",
          "2020-06-16T00:00:00",
          "2020-06-17T00:00:00",
          "2020-06-18T00:00:00",
          "2020-06-19T00:00:00",
          "2020-06-22T00:00:00",
          "2020-06-23T00:00:00",
          "2020-06-24T00:00:00",
          "2020-06-25T00:00:00",
          "2020-06-26T00:00:00",
          "2020-06-29T00:00:00",
          "2020-06-30T00:00:00",
          "2020-07-01T00:00:00",
          "2020-07-02T00:00:00",
          "2020-07-06T00:00:00",
          "2020-07-07T00:00:00",
          "2020-07-08T00:00:00",
          "2020-07-09T00:00:00",
          "2020-07-10T00:00:00",
          "2020-07-13T00:00:00",
          "2020-07-14T00:00:00",
          "2020-07-15T00:00:00",
          "2020-07-16T00:00:00",
          "2020-07-17T00:00:00",
          "2020-07-20T00:00:00",
          "2020-07-21T00:00:00",
          "2020-07-22T00:00:00",
          "2020-07-23T00:00:00",
          "2020-07-24T00:00:00",
          "2020-07-27T00:00:00",
          "2020-07-28T00:00:00",
          "2020-07-29T00:00:00",
          "2020-07-30T00:00:00",
          "2020-07-31T00:00:00",
          "2020-08-03T00:00:00",
          "2020-08-04T00:00:00",
          "2020-08-05T00:00:00",
          "2020-08-06T00:00:00",
          "2020-08-07T00:00:00",
          "2020-08-10T00:00:00",
          "2020-08-11T00:00:00",
          "2020-08-12T00:00:00",
          "2020-08-13T00:00:00",
          "2020-08-14T00:00:00",
          "2020-08-17T00:00:00",
          "2020-08-18T00:00:00",
          "2020-08-19T00:00:00",
          "2020-08-20T00:00:00",
          "2020-08-21T00:00:00",
          "2020-08-24T00:00:00",
          "2020-08-25T00:00:00",
          "2020-08-26T00:00:00",
          "2020-08-27T00:00:00",
          "2020-08-28T00:00:00",
          "2020-08-31T00:00:00",
          "2020-09-01T00:00:00",
          "2020-09-02T00:00:00",
          "2020-09-03T00:00:00",
          "2020-09-04T00:00:00",
          "2020-09-08T00:00:00",
          "2020-09-09T00:00:00",
          "2020-09-10T00:00:00",
          "2020-09-11T00:00:00",
          "2020-09-14T00:00:00",
          "2020-09-15T00:00:00",
          "2020-09-16T00:00:00",
          "2020-09-17T00:00:00",
          "2020-09-18T00:00:00",
          "2020-09-21T00:00:00",
          "2020-09-22T00:00:00",
          "2020-09-23T00:00:00",
          "2020-09-24T00:00:00",
          "2020-09-25T00:00:00",
          "2020-09-28T00:00:00",
          "2020-09-29T00:00:00",
          "2020-09-30T00:00:00",
          "2020-10-01T00:00:00",
          "2020-10-02T00:00:00",
          "2020-10-05T00:00:00",
          "2020-10-06T00:00:00",
          "2020-10-07T00:00:00",
          "2020-10-08T00:00:00",
          "2020-10-09T00:00:00",
          "2020-10-12T00:00:00",
          "2020-10-13T00:00:00",
          "2020-10-14T00:00:00",
          "2020-10-15T00:00:00",
          "2020-10-16T00:00:00",
          "2020-10-19T00:00:00",
          "2020-10-20T00:00:00",
          "2020-10-21T00:00:00",
          "2020-10-22T00:00:00",
          "2020-10-23T00:00:00",
          "2020-10-26T00:00:00",
          "2020-10-27T00:00:00",
          "2020-10-28T00:00:00",
          "2020-10-29T00:00:00",
          "2020-10-30T00:00:00",
          "2020-11-02T00:00:00",
          "2020-11-03T00:00:00",
          "2020-11-04T00:00:00",
          "2020-11-05T00:00:00",
          "2020-11-06T00:00:00",
          "2020-11-09T00:00:00",
          "2020-11-10T00:00:00",
          "2020-11-11T00:00:00",
          "2020-11-12T00:00:00",
          "2020-11-13T00:00:00",
          "2020-11-16T00:00:00",
          "2020-11-17T00:00:00",
          "2020-11-18T00:00:00",
          "2020-11-19T00:00:00",
          "2020-11-20T00:00:00",
          "2020-11-23T00:00:00",
          "2020-11-24T00:00:00",
          "2020-11-25T00:00:00",
          "2020-11-27T00:00:00",
          "2020-11-30T00:00:00",
          "2020-12-01T00:00:00",
          "2020-12-02T00:00:00",
          "2020-12-03T00:00:00",
          "2020-12-04T00:00:00",
          "2020-12-07T00:00:00",
          "2020-12-08T00:00:00",
          "2020-12-09T00:00:00",
          "2020-12-10T00:00:00",
          "2020-12-11T00:00:00",
          "2020-12-14T00:00:00",
          "2020-12-15T00:00:00",
          "2020-12-16T00:00:00",
          "2020-12-17T00:00:00",
          "2020-12-18T00:00:00",
          "2020-12-21T00:00:00",
          "2020-12-22T00:00:00",
          "2020-12-23T00:00:00",
          "2020-12-24T00:00:00",
          "2020-12-28T00:00:00",
          "2020-12-29T00:00:00",
          "2020-12-30T00:00:00",
          "2020-12-31T00:00:00",
          "2021-01-04T00:00:00",
          "2021-01-05T00:00:00",
          "2021-01-06T00:00:00",
          "2021-01-07T00:00:00",
          "2021-01-08T00:00:00",
          "2021-01-11T00:00:00",
          "2021-01-12T00:00:00",
          "2021-01-13T00:00:00",
          "2021-01-14T00:00:00",
          "2021-01-15T00:00:00",
          "2021-01-19T00:00:00",
          "2021-01-20T00:00:00",
          "2021-01-21T00:00:00",
          "2021-01-22T00:00:00",
          "2021-01-25T00:00:00",
          "2021-01-26T00:00:00",
          "2021-01-27T00:00:00",
          "2021-01-28T00:00:00",
          "2021-01-29T00:00:00",
          "2021-02-01T00:00:00",
          "2021-02-02T00:00:00",
          "2021-02-03T00:00:00",
          "2021-02-04T00:00:00",
          "2021-02-05T00:00:00",
          "2021-02-08T00:00:00",
          "2021-02-09T00:00:00",
          "2021-02-10T00:00:00",
          "2021-02-11T00:00:00",
          "2021-02-12T00:00:00",
          "2021-02-16T00:00:00",
          "2021-02-17T00:00:00",
          "2021-02-18T00:00:00",
          "2021-02-19T00:00:00",
          "2021-02-22T00:00:00",
          "2021-02-23T00:00:00",
          "2021-02-24T00:00:00",
          "2021-02-25T00:00:00",
          "2021-02-26T00:00:00",
          "2021-03-01T00:00:00",
          "2021-03-02T00:00:00",
          "2021-03-03T00:00:00",
          "2021-03-04T00:00:00",
          "2021-03-05T00:00:00",
          "2021-03-08T00:00:00",
          "2021-03-09T00:00:00",
          "2021-03-10T00:00:00",
          "2021-03-11T00:00:00",
          "2021-03-12T00:00:00",
          "2021-03-15T00:00:00",
          "2021-03-16T00:00:00",
          "2021-03-17T00:00:00",
          "2021-03-18T00:00:00",
          "2021-03-19T00:00:00",
          "2021-03-22T00:00:00",
          "2021-03-23T00:00:00",
          "2021-03-24T00:00:00",
          "2021-03-25T00:00:00",
          "2021-03-26T00:00:00",
          "2021-03-29T00:00:00",
          "2021-03-30T00:00:00"
         ],
         "y": [
          209.77999877929688,
          208.6699981689453,
          212.60000610351562,
          213.05999755859375,
          215.22000122070312,
          218.3000030517578,
          218.05999755859375,
          221.91000366210938,
          219.05999755859375,
          221.14999389648438,
          221.77000427246094,
          222.13999938964844,
          221.44000244140625,
          221.32000732421875,
          219.75999450683594,
          217.94000244140625,
          214.8699951171875,
          217.7899932861328,
          223.22999572753906,
          209.52999877929688,
          201.91000366210938,
          204.19000244140625,
          209.8300018310547,
          210.11000061035156,
          210.85000610351562,
          212.3300018310547,
          213.05999755859375,
          207.19000244140625,
          210.75999450683594,
          213.13999938964844,
          214.17999267578125,
          217.8000030517578,
          217.49000549316406,
          214.5800018310547,
          210.17999267578125,
          200.72000122070312,
          196.77000427246094,
          197.1999969482422,
          189.75,
          192.47000122070312,
          196.44000244140625,
          185.88999938964844,
          191.75999450683594,
          185.1699981689453,
          181.08999633789062,
          169.5,
          178.19000244140625,
          170.24000549316406,
          154.47000122070312,
          170.27999877929688,
          146.00999450683594,
          149.4199981689453,
          146.9600067138672,
          153.1300048828125,
          149.72999572753906,
          148.10000610351562,
          160.97999572753906,
          156.2100067138672,
          163.33999633789062,
          156.7899932861328,
          165.9499969482422,
          166.8000030517578,
          159.60000610351562,
          158.19000244140625,
          154.17999267578125,
          165.5500030517578,
          168.8300018310547,
          174.27999877929688,
          175.19000244140625,
          174.7899932861328,
          178.1699981689453,
          176.97000122070312,
          176.25,
          179.24000549316406,
          178.24000549316406,
          170.8000030517578,
          182.27999877929688,
          185.1300048828125,
          190.07000732421875,
          187.5,
          182.91000366210938,
          194.19000244140625,
          204.7100067138672,
          202.27000427246094,
          205.25999450683594,
          207.07000732421875,
          208.47000122070312,
          211.25999450683594,
          212.35000610351562,
          213.17999267578125,
          210.10000610351562,
          205.10000610351562,
          206.80999755859375,
          210.8800048828125,
          213.19000244140625,
          216.8800048828125,
          229.97000122070312,
          231.38999938964844,
          234.91000366210938,
          232.1999969482422,
          229.13999938964844,
          225.4600067138672,
          225.08999633789062,
          231.91000366210938,
          232.72000122070312,
          230.16000366210938,
          226.2899932861328,
          230.77000427246094,
          231.39999389648438,
          238.6699981689453,
          236.72999572753906,
          224.42999267578125,
          228.5800018310547,
          232.5,
          235.64999389648438,
          235.52999877929688,
          235.94000244140625,
          238.7899932861328,
          239.22000122070312,
          242.24000549316406,
          234.02000427246094,
          235.67999267578125,
          216.0800018310547,
          220.63999938964844,
          227.07000732421875,
          237.5500030517578,
          233.4199981689453,
          240.27999877929688,
          240.86000061035156,
          243.5800018310547,
          244.5,
          245.07000732421875,
          239,
          239.72999572753906,
          240.27999877929688,
          240.92999267578125,
          242.02999877929688,
          245.4199981689453,
          241.75,
          239.8699951171875,
          232.60000610351562,
          230.7100067138672,
          233.5,
          230.1199951171875,
          233.2899932861328,
          234.5,
          253.6699981689453,
          251.9600067138672,
          249.8300018310547,
          249.1199951171875,
          265.2799987792969,
          268.44000244140625,
          263,
          256.1300048828125,
          259.8900146484375,
          261.29998779296875,
          261.239990234375,
          261.1600036621094,
          262.3399963378906,
          262.5899963378906,
          269.010009765625,
          267.010009765625,
          271.3900146484375,
          280.82000732421875,
          303.9100036621094,
          293.2200012207031,
          293.6600036621094,
          293.20001220703125,
          295.44000244140625,
          302.5,
          291.1199951171875,
          282.7300109863281,
          271.1600036621094,
          273.7200012207031,
          268.0899963378906,
          266.6099853515625,
          266.1499938964844,
          272.4200134277344,
          263.5199890136719,
          254.82000732421875,
          252.52999877929688,
          248.14999389648438,
          254.75,
          249.02000427246094,
          249.52999877929688,
          254.82000732421875,
          256.82000732421875,
          261.7900085449219,
          261.8999938964844,
          266.6300048828125,
          259.94000244140625,
          264.6499938964844,
          258.6600036621094,
          258.1199951171875,
          263.760009765625,
          264.45001220703125,
          275.75,
          276.1400146484375,
          271.82000732421875,
          266.7200012207031,
          265.92999267578125,
          261.3999938964844,
          267.55999755859375,
          278.7300109863281,
          278.1199951171875,
          284.7900085449219,
          277.1099853515625,
          283.2900085449219,
          267.6700134277344,
          280.8299865722656,
          263.1099853515625,
          261.3599853515625,
          265.29998779296875,
          287.3800048828125,
          294.67999267578125,
          293.4100036621094,
          278.7699890136719,
          272.42999267578125,
          276.4800109863281,
          275.0799865722656,
          276.95001220703125,
          278.9599914550781,
          275,
          271.9700012207031,
          272.94000244140625,
          269.70001220703125,
          268.42999267578125,
          276.9200134277344,
          275.5899963378906,
          277.80999755859375,
          276.9700012207031,
          286.54998779296875,
          287.5199890136719,
          281.8500061035156,
          279.70001220703125,
          285.5799865722656,
          283.3999938964844,
          277.9200134277344,
          277.1199951171875,
          273.54998779296875,
          274.19000244140625,
          275.54998779296875,
          275.6700134277344,
          274.4800109863281,
          276.3999938964844,
          272.7900085449219,
          267.0899963378906,
          268.1099853515625,
          267.3999938964844,
          277,
          276.7799987792969,
          271.8699951171875,
          273.1600036621094,
          268.94000244140625,
          270.9700012207031,
          263.30999755859375,
          268.739990234375,
          267.57000732421875,
          256.8399963378906,
          251.08999633789062,
          251.63999938964844,
          245.63999938964844,
          251.36000061035156,
          261.1000061035156,
          267.4800109863281,
          272.8699951171875,
          274.5,
          278.010009765625,
          282.04998779296875,
          272.1400146484375,
          265,
          258.3299865722656,
          262.010009765625,
          267.0799865722656,
          266.6499938964844,
          266.489990234375,
          268.1000061035156,
          266.5799865722656,
          269.45001220703125,
          271.8699951171875,
          270.3900146484375,
          270.5,
          273.9700012207031,
          273.57000732421875,
          269.3900146484375,
          261.55999755859375,
          260.3299865722656,
          265.8599853515625,
          264.30999755859375,
          254.69000244140625,
          257.6199951171875,
          264.9100036621094,
          259,
          255.41000366210938,
          257.6400146484375,
          264.2799987792969,
          255.30999755859375,
          265.739990234375,
          264.8999938964844,
          273.8800048828125,
          268.3999938964844,
          273.75,
          279.2799987792969,
          284.010009765625,
          278.6199951171875,
          290.1099853515625,
          293.5400085449219,
          290.6300048828125,
          282.1400146484375,
          278.739990234375,
          283.0199890136719,
          290.82000732421875,
          288
         ]
        }
       ],
       "layout": {
        "template": {
         "data": {
          "bar": [
           {
            "error_x": {
             "color": "#2a3f5f"
            },
            "error_y": {
             "color": "#2a3f5f"
            },
            "marker": {
             "line": {
              "color": "#E5ECF6",
              "width": 0.5
             }
            },
            "type": "bar"
           }
          ],
          "barpolar": [
           {
            "marker": {
             "line": {
              "color": "#E5ECF6",
              "width": 0.5
             }
            },
            "type": "barpolar"
           }
          ],
          "carpet": [
           {
            "aaxis": {
             "endlinecolor": "#2a3f5f",
             "gridcolor": "white",
             "linecolor": "white",
             "minorgridcolor": "white",
             "startlinecolor": "#2a3f5f"
            },
            "baxis": {
             "endlinecolor": "#2a3f5f",
             "gridcolor": "white",
             "linecolor": "white",
             "minorgridcolor": "white",
             "startlinecolor": "#2a3f5f"
            },
            "type": "carpet"
           }
          ],
          "choropleth": [
           {
            "colorbar": {
             "outlinewidth": 0,
             "ticks": ""
            },
            "type": "choropleth"
           }
          ],
          "contour": [
           {
            "colorbar": {
             "outlinewidth": 0,
             "ticks": ""
            },
            "colorscale": [
             [
              0,
              "#0d0887"
             ],
             [
              0.1111111111111111,
              "#46039f"
             ],
             [
              0.2222222222222222,
              "#7201a8"
             ],
             [
              0.3333333333333333,
              "#9c179e"
             ],
             [
              0.4444444444444444,
              "#bd3786"
             ],
             [
              0.5555555555555556,
              "#d8576b"
             ],
             [
              0.6666666666666666,
              "#ed7953"
             ],
             [
              0.7777777777777778,
              "#fb9f3a"
             ],
             [
              0.8888888888888888,
              "#fdca26"
             ],
             [
              1,
              "#f0f921"
             ]
            ],
            "type": "contour"
           }
          ],
          "contourcarpet": [
           {
            "colorbar": {
             "outlinewidth": 0,
             "ticks": ""
            },
            "type": "contourcarpet"
           }
          ],
          "heatmap": [
           {
            "colorbar": {
             "outlinewidth": 0,
             "ticks": ""
            },
            "colorscale": [
             [
              0,
              "#0d0887"
             ],
             [
              0.1111111111111111,
              "#46039f"
             ],
             [
              0.2222222222222222,
              "#7201a8"
             ],
             [
              0.3333333333333333,
              "#9c179e"
             ],
             [
              0.4444444444444444,
              "#bd3786"
             ],
             [
              0.5555555555555556,
              "#d8576b"
             ],
             [
              0.6666666666666666,
              "#ed7953"
             ],
             [
              0.7777777777777778,
              "#fb9f3a"
             ],
             [
              0.8888888888888888,
              "#fdca26"
             ],
             [
              1,
              "#f0f921"
             ]
            ],
            "type": "heatmap"
           }
          ],
          "heatmapgl": [
           {
            "colorbar": {
             "outlinewidth": 0,
             "ticks": ""
            },
            "colorscale": [
             [
              0,
              "#0d0887"
             ],
             [
              0.1111111111111111,
              "#46039f"
             ],
             [
              0.2222222222222222,
              "#7201a8"
             ],
             [
              0.3333333333333333,
              "#9c179e"
             ],
             [
              0.4444444444444444,
              "#bd3786"
             ],
             [
              0.5555555555555556,
              "#d8576b"
             ],
             [
              0.6666666666666666,
              "#ed7953"
             ],
             [
              0.7777777777777778,
              "#fb9f3a"
             ],
             [
              0.8888888888888888,
              "#fdca26"
             ],
             [
              1,
              "#f0f921"
             ]
            ],
            "type": "heatmapgl"
           }
          ],
          "histogram": [
           {
            "marker": {
             "colorbar": {
              "outlinewidth": 0,
              "ticks": ""
             }
            },
            "type": "histogram"
           }
          ],
          "histogram2d": [
           {
            "colorbar": {
             "outlinewidth": 0,
             "ticks": ""
            },
            "colorscale": [
             [
              0,
              "#0d0887"
             ],
             [
              0.1111111111111111,
              "#46039f"
             ],
             [
              0.2222222222222222,
              "#7201a8"
             ],
             [
              0.3333333333333333,
              "#9c179e"
             ],
             [
              0.4444444444444444,
              "#bd3786"
             ],
             [
              0.5555555555555556,
              "#d8576b"
             ],
             [
              0.6666666666666666,
              "#ed7953"
             ],
             [
              0.7777777777777778,
              "#fb9f3a"
             ],
             [
              0.8888888888888888,
              "#fdca26"
             ],
             [
              1,
              "#f0f921"
             ]
            ],
            "type": "histogram2d"
           }
          ],
          "histogram2dcontour": [
           {
            "colorbar": {
             "outlinewidth": 0,
             "ticks": ""
            },
            "colorscale": [
             [
              0,
              "#0d0887"
             ],
             [
              0.1111111111111111,
              "#46039f"
             ],
             [
              0.2222222222222222,
              "#7201a8"
             ],
             [
              0.3333333333333333,
              "#9c179e"
             ],
             [
              0.4444444444444444,
              "#bd3786"
             ],
             [
              0.5555555555555556,
              "#d8576b"
             ],
             [
              0.6666666666666666,
              "#ed7953"
             ],
             [
              0.7777777777777778,
              "#fb9f3a"
             ],
             [
              0.8888888888888888,
              "#fdca26"
             ],
             [
              1,
              "#f0f921"
             ]
            ],
            "type": "histogram2dcontour"
           }
          ],
          "mesh3d": [
           {
            "colorbar": {
             "outlinewidth": 0,
             "ticks": ""
            },
            "type": "mesh3d"
           }
          ],
          "parcoords": [
           {
            "line": {
             "colorbar": {
              "outlinewidth": 0,
              "ticks": ""
             }
            },
            "type": "parcoords"
           }
          ],
          "pie": [
           {
            "automargin": true,
            "type": "pie"
           }
          ],
          "scatter": [
           {
            "marker": {
             "colorbar": {
              "outlinewidth": 0,
              "ticks": ""
             }
            },
            "type": "scatter"
           }
          ],
          "scatter3d": [
           {
            "line": {
             "colorbar": {
              "outlinewidth": 0,
              "ticks": ""
             }
            },
            "marker": {
             "colorbar": {
              "outlinewidth": 0,
              "ticks": ""
             }
            },
            "type": "scatter3d"
           }
          ],
          "scattercarpet": [
           {
            "marker": {
             "colorbar": {
              "outlinewidth": 0,
              "ticks": ""
             }
            },
            "type": "scattercarpet"
           }
          ],
          "scattergeo": [
           {
            "marker": {
             "colorbar": {
              "outlinewidth": 0,
              "ticks": ""
             }
            },
            "type": "scattergeo"
           }
          ],
          "scattergl": [
           {
            "marker": {
             "colorbar": {
              "outlinewidth": 0,
              "ticks": ""
             }
            },
            "type": "scattergl"
           }
          ],
          "scattermapbox": [
           {
            "marker": {
             "colorbar": {
              "outlinewidth": 0,
              "ticks": ""
             }
            },
            "type": "scattermapbox"
           }
          ],
          "scatterpolar": [
           {
            "marker": {
             "colorbar": {
              "outlinewidth": 0,
              "ticks": ""
             }
            },
            "type": "scatterpolar"
           }
          ],
          "scatterpolargl": [
           {
            "marker": {
             "colorbar": {
              "outlinewidth": 0,
              "ticks": ""
             }
            },
            "type": "scatterpolargl"
           }
          ],
          "scatterternary": [
           {
            "marker": {
             "colorbar": {
              "outlinewidth": 0,
              "ticks": ""
             }
            },
            "type": "scatterternary"
           }
          ],
          "surface": [
           {
            "colorbar": {
             "outlinewidth": 0,
             "ticks": ""
            },
            "colorscale": [
             [
              0,
              "#0d0887"
             ],
             [
              0.1111111111111111,
              "#46039f"
             ],
             [
              0.2222222222222222,
              "#7201a8"
             ],
             [
              0.3333333333333333,
              "#9c179e"
             ],
             [
              0.4444444444444444,
              "#bd3786"
             ],
             [
              0.5555555555555556,
              "#d8576b"
             ],
             [
              0.6666666666666666,
              "#ed7953"
             ],
             [
              0.7777777777777778,
              "#fb9f3a"
             ],
             [
              0.8888888888888888,
              "#fdca26"
             ],
             [
              1,
              "#f0f921"
             ]
            ],
            "type": "surface"
           }
          ],
          "table": [
           {
            "cells": {
             "fill": {
              "color": "#EBF0F8"
             },
             "line": {
              "color": "white"
             }
            },
            "header": {
             "fill": {
              "color": "#C8D4E3"
             },
             "line": {
              "color": "white"
             }
            },
            "type": "table"
           }
          ]
         },
         "layout": {
          "annotationdefaults": {
           "arrowcolor": "#2a3f5f",
           "arrowhead": 0,
           "arrowwidth": 1
          },
          "autotypenumbers": "strict",
          "coloraxis": {
           "colorbar": {
            "outlinewidth": 0,
            "ticks": ""
           }
          },
          "colorscale": {
           "diverging": [
            [
             0,
             "#8e0152"
            ],
            [
             0.1,
             "#c51b7d"
            ],
            [
             0.2,
             "#de77ae"
            ],
            [
             0.3,
             "#f1b6da"
            ],
            [
             0.4,
             "#fde0ef"
            ],
            [
             0.5,
             "#f7f7f7"
            ],
            [
             0.6,
             "#e6f5d0"
            ],
            [
             0.7,
             "#b8e186"
            ],
            [
             0.8,
             "#7fbc41"
            ],
            [
             0.9,
             "#4d9221"
            ],
            [
             1,
             "#276419"
            ]
           ],
           "sequential": [
            [
             0,
             "#0d0887"
            ],
            [
             0.1111111111111111,
             "#46039f"
            ],
            [
             0.2222222222222222,
             "#7201a8"
            ],
            [
             0.3333333333333333,
             "#9c179e"
            ],
            [
             0.4444444444444444,
             "#bd3786"
            ],
            [
             0.5555555555555556,
             "#d8576b"
            ],
            [
             0.6666666666666666,
             "#ed7953"
            ],
            [
             0.7777777777777778,
             "#fb9f3a"
            ],
            [
             0.8888888888888888,
             "#fdca26"
            ],
            [
             1,
             "#f0f921"
            ]
           ],
           "sequentialminus": [
            [
             0,
             "#0d0887"
            ],
            [
             0.1111111111111111,
             "#46039f"
            ],
            [
             0.2222222222222222,
             "#7201a8"
            ],
            [
             0.3333333333333333,
             "#9c179e"
            ],
            [
             0.4444444444444444,
             "#bd3786"
            ],
            [
             0.5555555555555556,
             "#d8576b"
            ],
            [
             0.6666666666666666,
             "#ed7953"
            ],
            [
             0.7777777777777778,
             "#fb9f3a"
            ],
            [
             0.8888888888888888,
             "#fdca26"
            ],
            [
             1,
             "#f0f921"
            ]
           ]
          },
          "colorway": [
           "#636efa",
           "#EF553B",
           "#00cc96",
           "#ab63fa",
           "#FFA15A",
           "#19d3f3",
           "#FF6692",
           "#B6E880",
           "#FF97FF",
           "#FECB52"
          ],
          "font": {
           "color": "#2a3f5f"
          },
          "geo": {
           "bgcolor": "white",
           "lakecolor": "white",
           "landcolor": "#E5ECF6",
           "showlakes": true,
           "showland": true,
           "subunitcolor": "white"
          },
          "hoverlabel": {
           "align": "left"
          },
          "hovermode": "closest",
          "mapbox": {
           "style": "light"
          },
          "paper_bgcolor": "white",
          "plot_bgcolor": "#E5ECF6",
          "polar": {
           "angularaxis": {
            "gridcolor": "white",
            "linecolor": "white",
            "ticks": ""
           },
           "bgcolor": "#E5ECF6",
           "radialaxis": {
            "gridcolor": "white",
            "linecolor": "white",
            "ticks": ""
           }
          },
          "scene": {
           "xaxis": {
            "backgroundcolor": "#E5ECF6",
            "gridcolor": "white",
            "gridwidth": 2,
            "linecolor": "white",
            "showbackground": true,
            "ticks": "",
            "zerolinecolor": "white"
           },
           "yaxis": {
            "backgroundcolor": "#E5ECF6",
            "gridcolor": "white",
            "gridwidth": 2,
            "linecolor": "white",
            "showbackground": true,
            "ticks": "",
            "zerolinecolor": "white"
           },
           "zaxis": {
            "backgroundcolor": "#E5ECF6",
            "gridcolor": "white",
            "gridwidth": 2,
            "linecolor": "white",
            "showbackground": true,
            "ticks": "",
            "zerolinecolor": "white"
           }
          },
          "shapedefaults": {
           "line": {
            "color": "#2a3f5f"
           }
          },
          "ternary": {
           "aaxis": {
            "gridcolor": "white",
            "linecolor": "white",
            "ticks": ""
           },
           "baxis": {
            "gridcolor": "white",
            "linecolor": "white",
            "ticks": ""
           },
           "bgcolor": "#E5ECF6",
           "caxis": {
            "gridcolor": "white",
            "linecolor": "white",
            "ticks": ""
           }
          },
          "title": {
           "x": 0.05
          },
          "xaxis": {
           "automargin": true,
           "gridcolor": "white",
           "linecolor": "white",
           "ticks": "",
           "title": {
            "standoff": 15
           },
           "zerolinecolor": "white",
           "zerolinewidth": 2
          },
          "yaxis": {
           "automargin": true,
           "gridcolor": "white",
           "linecolor": "white",
           "ticks": "",
           "title": {
            "standoff": 15
           },
           "zerolinecolor": "white",
           "zerolinewidth": 2
          }
         }
        },
        "title": {
         "text": "FB LSTM"
        },
        "xaxis": {
         "title": {
          "text": "time"
         }
        },
        "yaxis": {
         "title": {
          "text": "FB price"
         }
        }
       }
      }
     },
     "metadata": {}
    }
   ],
   "source": [
    "import plotly.graph_objects as go\n",
    "predicted_prices_length = predicted_prices.size\n",
    "fig = go.Figure()\n",
    "x_range = np.linspace(0, predicted_prices_length, predicted_prices_length)\n",
    "\n",
    "fig.add_trace(go.Scatter(name=\"predicted\", x=x_test_date, y=predicted_prices.reshape(predicted_prices_length)))\n",
    "fig.add_trace(go.Scatter(name=\"actual\", x=x_test_date, y=y_test.reshape(predicted_prices_length)))\n",
    "fig.update_layout(title=f\"{company} LSTM\", xaxis_title=\"time\", yaxis_title=f\"{company} price\")\n",
    "fig.show()"
   ]
  },
  {
   "cell_type": "markdown",
   "metadata": {},
   "source": [
    "## Predict next day"
   ]
  },
  {
   "cell_type": "code",
   "execution_count": 66,
   "metadata": {},
   "outputs": [
    {
     "output_type": "stream",
     "name": "stdout",
     "text": [
      "real_data: row: 1 col: 30\nPrediction for 03-30-2021: $249.78\n"
     ]
    }
   ],
   "source": [
    "row_selection = len(model_inputs) - prediction_days\n",
    "col_selection = len(model_inputs + 1)\n",
    "real_data = [model_inputs[row_selection: col_selection, 0]]\n",
    "real_data = list_to_np_array(real_data, \"real_data\")\n",
    "\n",
    "prediction = model.predict(real_data)\n",
    "prediction = scalar.inverse_transform(prediction)[0][0]\n",
    "prediction_str = \"{:0.2f}\".format(prediction)\n",
    "test_end_str = test_end.strftime(\"%m-%d-%Y\")\n",
    "print(f\"Prediction for {test_end_str}: ${prediction_str}\")"
   ]
  },
  {
   "source": [
    "## RMSE: how good is it"
   ],
   "cell_type": "markdown",
   "metadata": {}
  },
  {
   "cell_type": "code",
   "execution_count": 67,
   "metadata": {},
   "outputs": [
    {
     "output_type": "stream",
     "name": "stdout",
     "text": [
      "RMSE: 51.33\n"
     ]
    }
   ],
   "source": [
    "se = np.square(y_test - predicted_prices)\n",
    "mse = np.mean(se)\n",
    "rmse = np.sqrt(mse)\n",
    "rmse_str = \"{:0.2f}\".format(rmse)\n",
    "print(f'RMSE: {rmse_str}')"
   ]
  },
  {
   "cell_type": "code",
   "execution_count": null,
   "metadata": {},
   "outputs": [],
   "source": []
  }
 ],
 "metadata": {
  "kernelspec": {
   "name": "python3",
   "display_name": "Python 3",
   "language": "python"
  },
  "language_info": {
   "codemirror_mode": {
    "name": "ipython",
    "version": 3
   },
   "file_extension": ".py",
   "mimetype": "text/x-python",
   "name": "python",
   "nbconvert_exporter": "python",
   "pygments_lexer": "ipython3",
   "version": "3.7.10-final"
  }
 },
 "nbformat": 4,
 "nbformat_minor": 4
}