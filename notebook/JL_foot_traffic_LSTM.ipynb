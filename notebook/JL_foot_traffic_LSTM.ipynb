{
 "cells": [
  {
   "cell_type": "markdown",
   "metadata": {},
   "source": [
    "# LTSM for foot traffic\n",
    "## setup imports\n"
   ]
  },
  {
   "cell_type": "code",
   "execution_count": 3,
   "metadata": {},
   "outputs": [
    {
     "output_type": "stream",
     "name": "stdout",
     "text": [
      "INFO:tensorflow:Enabling eager execution\n",
      "INFO:tensorflow:Enabling v2 tensorshape\n",
      "INFO:tensorflow:Enabling resource variables\n",
      "INFO:tensorflow:Enabling tensor equality\n",
      "INFO:tensorflow:Enabling control flow v2\n"
     ]
    }
   ],
   "source": [
    "import numpy as np\n",
    "from matplotlib import pyplot as plt\n",
    "import pandas as pd\n",
    "import pandas_datareader as web\n",
    "\n",
    "from sklearn.preprocessing import MinMaxScaler\n",
    "from tensorflow.keras.models import Sequential\n",
    "from tensorflow.keras.metrics import RootMeanSquaredError\n",
    "from tensorflow.keras.layers import Dense, Dropout, LSTM\n",
    "\n",
    "import datetime as dt\n",
    "\n",
    "import plotly\n",
    "import chart_studio.plotly as py\n",
    "import plotly.tools as tls\n",
    "import plotly.express as px\n",
    "import plotly.graph_objects as go\n"
   ]
  },
  {
   "source": [
    "# Utils"
   ],
   "cell_type": "markdown",
   "metadata": {}
  },
  {
   "cell_type": "code",
   "execution_count": 4,
   "metadata": {},
   "outputs": [],
   "source": [
    "def list_to_np_array(tmp_list, label=\"\"):\n",
    "    result = np.array(tmp_list)\n",
    "    result = np.reshape(result, (result.shape[0], result.shape[1], 1))\n",
    "    print(f\"{label}: row: {result.shape[0]} col: {result.shape[1]}\")\n",
    "    return result"
   ]
  },
  {
   "source": [
    "### constants"
   ],
   "cell_type": "markdown",
   "metadata": {}
  },
  {
   "cell_type": "code",
   "execution_count": 5,
   "metadata": {},
   "outputs": [],
   "source": [
    "#  call these brands since they are agregated info\n",
    "company = 'BURGER_KING'\n",
    "ROW_AXIS = 0\n",
    "COL_AXIS = 1"
   ]
  },
  {
   "source": [
    "## Load Data\n"
   ],
   "cell_type": "markdown",
   "metadata": {}
  },
  {
   "cell_type": "code",
   "execution_count": 6,
   "metadata": {},
   "outputs": [],
   "source": [
    "start = dt.datetime(2020, 4, 1)\n",
    "end = dt.datetime(2020, 12, 31)\n",
    "# end = dt.datetime.now() - dt.timedelta(days=1)\n",
    "data = pd.read_csv('/Users/joe.lau/Downloads/bar.csv',index_col = 'Date')\n",
    "\n",
    "\n",
    "# Creates the datetime object \n",
    "data.index = pd.to_datetime(data.index)\n",
    "\n",
    "## Gets the training data from the start to the first month of January\n",
    "train_data = data.loc[start:end].copy(deep = True)\n",
    "\n",
    "# train_data = web.DataReader(company, 'yahoo', start, end)\n",
    "train_company_data = train_data[company]\n",
    "\n",
    "# train_data_close = train_data[CLOSE].values.reshape(-1,1)\n"
   ]
  },
  {
   "cell_type": "code",
   "execution_count": 7,
   "metadata": {},
   "outputs": [
    {
     "output_type": "execute_result",
     "data": {
      "text/plain": [
       "              ARBYS  BURGER_KING  CARLS_JR  CHICK_FIL_A  \\\n",
       "Date                                                      \n",
       "2019-02-01  23787.0      70305.0   10480.0          NaN   \n",
       "2019-02-02  20965.0      63182.0    8878.0          NaN   \n",
       "2019-02-03  15957.0      48316.0    6802.0          NaN   \n",
       "2019-02-04  15898.0      48960.0    7872.0          NaN   \n",
       "2019-02-05  18564.0      58377.0   10308.0          NaN   \n",
       "...             ...          ...       ...          ...   \n",
       "2021-01-13  13666.0      40076.0    7573.0      42183.0   \n",
       "2021-01-14   9999.0      31672.0    5507.0      35514.0   \n",
       "2021-01-15  12533.0      38204.0    9411.0      43293.0   \n",
       "2021-01-16  11536.0      39361.0    8555.0      47550.0   \n",
       "2021-01-17  10481.0      36131.0    7231.0       7621.0   \n",
       "\n",
       "            CHIPOTLE_MEXICAN_GRILL  DAIRY_QUEEN  DUNKIN_DONUTS  \\\n",
       "Date                                                             \n",
       "2019-02-01                 70267.0      29642.0       212825.0   \n",
       "2019-02-02                 67573.0      31738.0       175872.0   \n",
       "2019-02-03                 49140.0      21795.0       141970.0   \n",
       "2019-02-04                 51022.0      19296.0       152418.0   \n",
       "2019-02-05                 73828.0      22728.0       185770.0   \n",
       "...                            ...          ...            ...   \n",
       "2021-01-13                 16030.0      26992.0       145809.0   \n",
       "2021-01-14                 11453.0      18457.0       127685.0   \n",
       "2021-01-15                 16429.0      26768.0       145873.0   \n",
       "2021-01-16                 18173.0      35953.0       143189.0   \n",
       "2021-01-17                 15839.0      29357.0       135722.0   \n",
       "\n",
       "            FIVE_GUYS_BURGERS_AND_FRIES  HARDEES  IN_N_OUT_BURGER  ...  \\\n",
       "Date                                                               ...   \n",
       "2019-02-01                      28065.0      NaN           2040.0  ...   \n",
       "2019-02-02                      28037.0      NaN           1987.0  ...   \n",
       "2019-02-03                      19584.0      NaN           1668.0  ...   \n",
       "2019-02-04                      17851.0      NaN           1505.0  ...   \n",
       "2019-02-05                      22315.0      NaN           1593.0  ...   \n",
       "...                                 ...      ...              ...  ...   \n",
       "2021-01-13                       8776.0   5200.0           1577.0  ...   \n",
       "2021-01-14                       6323.0   4797.0           1081.0  ...   \n",
       "2021-01-15                       9193.0   5499.0           2175.0  ...   \n",
       "2021-01-16                      10880.0   5084.0           2743.0  ...   \n",
       "2021-01-17                       8432.0   4454.0           2414.0  ...   \n",
       "\n",
       "                KFC  MCDONALDS  PANERA_BREAD  PEETS_COFFEE_AND_TEA    SONIC  \\\n",
       "Date                                                                          \n",
       "2019-02-01  42653.0   219436.0       36544.0               16760.0  18644.0   \n",
       "2019-02-02  38071.0   204060.0       34672.0               12372.0  17223.0   \n",
       "2019-02-03  30743.0   173091.0       24039.0                9328.0  13448.0   \n",
       "2019-02-04  29829.0   165435.0       25106.0               11959.0  12482.0   \n",
       "2019-02-05  40717.0   216642.0       30576.0               14543.0  14832.0   \n",
       "...             ...        ...           ...                   ...      ...   \n",
       "2021-01-13  27686.0   128383.0       13364.0                4295.0  25404.0   \n",
       "2021-01-14  19383.0   108859.0       10934.0                3011.0  20153.0   \n",
       "2021-01-15  27155.0   129200.0       13384.0                4587.0  24826.0   \n",
       "2021-01-16  25433.0   136130.0       13921.0                3933.0  24087.0   \n",
       "2021-01-17  23635.0   136287.0       12563.0                3513.0  22579.0   \n",
       "\n",
       "            STARBUCKS    SUBWAY  TACO_BELL   WENDYS  WINGSTOP  \n",
       "Date                                                           \n",
       "2019-02-01   421716.0  554700.0    52921.0  41854.0   14606.0  \n",
       "2019-02-02   394936.0  497659.0    49214.0  36205.0   13853.0  \n",
       "2019-02-03   314069.0  383732.0    36416.0  28014.0   11463.0  \n",
       "2019-02-04   301276.0  386249.0    36902.0  31007.0    9444.0  \n",
       "2019-02-05   368852.0  472673.0    43790.0  36222.0   11235.0  \n",
       "...               ...       ...        ...      ...       ...  \n",
       "2021-01-13   243757.0  288740.0    47581.0  24766.0   10994.0  \n",
       "2021-01-14   173356.0  211754.0    35417.0  19945.0    7885.0  \n",
       "2021-01-15   226515.0  263942.0    49468.0  25125.0   11294.0  \n",
       "2021-01-16   296270.0  303428.0    48177.0  22960.0   11794.0  \n",
       "2021-01-17   286734.0  290344.0    43621.0  22819.0   10013.0  \n",
       "\n",
       "[717 rows x 22 columns]"
      ],
      "text/html": "<div>\n<style scoped>\n    .dataframe tbody tr th:only-of-type {\n        vertical-align: middle;\n    }\n\n    .dataframe tbody tr th {\n        vertical-align: top;\n    }\n\n    .dataframe thead th {\n        text-align: right;\n    }\n</style>\n<table border=\"1\" class=\"dataframe\">\n  <thead>\n    <tr style=\"text-align: right;\">\n      <th></th>\n      <th>ARBYS</th>\n      <th>BURGER_KING</th>\n      <th>CARLS_JR</th>\n      <th>CHICK_FIL_A</th>\n      <th>CHIPOTLE_MEXICAN_GRILL</th>\n      <th>DAIRY_QUEEN</th>\n      <th>DUNKIN_DONUTS</th>\n      <th>FIVE_GUYS_BURGERS_AND_FRIES</th>\n      <th>HARDEES</th>\n      <th>IN_N_OUT_BURGER</th>\n      <th>...</th>\n      <th>KFC</th>\n      <th>MCDONALDS</th>\n      <th>PANERA_BREAD</th>\n      <th>PEETS_COFFEE_AND_TEA</th>\n      <th>SONIC</th>\n      <th>STARBUCKS</th>\n      <th>SUBWAY</th>\n      <th>TACO_BELL</th>\n      <th>WENDYS</th>\n      <th>WINGSTOP</th>\n    </tr>\n    <tr>\n      <th>Date</th>\n      <th></th>\n      <th></th>\n      <th></th>\n      <th></th>\n      <th></th>\n      <th></th>\n      <th></th>\n      <th></th>\n      <th></th>\n      <th></th>\n      <th></th>\n      <th></th>\n      <th></th>\n      <th></th>\n      <th></th>\n      <th></th>\n      <th></th>\n      <th></th>\n      <th></th>\n      <th></th>\n      <th></th>\n    </tr>\n  </thead>\n  <tbody>\n    <tr>\n      <th>2019-02-01</th>\n      <td>23787.0</td>\n      <td>70305.0</td>\n      <td>10480.0</td>\n      <td>NaN</td>\n      <td>70267.0</td>\n      <td>29642.0</td>\n      <td>212825.0</td>\n      <td>28065.0</td>\n      <td>NaN</td>\n      <td>2040.0</td>\n      <td>...</td>\n      <td>42653.0</td>\n      <td>219436.0</td>\n      <td>36544.0</td>\n      <td>16760.0</td>\n      <td>18644.0</td>\n      <td>421716.0</td>\n      <td>554700.0</td>\n      <td>52921.0</td>\n      <td>41854.0</td>\n      <td>14606.0</td>\n    </tr>\n    <tr>\n      <th>2019-02-02</th>\n      <td>20965.0</td>\n      <td>63182.0</td>\n      <td>8878.0</td>\n      <td>NaN</td>\n      <td>67573.0</td>\n      <td>31738.0</td>\n      <td>175872.0</td>\n      <td>28037.0</td>\n      <td>NaN</td>\n      <td>1987.0</td>\n      <td>...</td>\n      <td>38071.0</td>\n      <td>204060.0</td>\n      <td>34672.0</td>\n      <td>12372.0</td>\n      <td>17223.0</td>\n      <td>394936.0</td>\n      <td>497659.0</td>\n      <td>49214.0</td>\n      <td>36205.0</td>\n      <td>13853.0</td>\n    </tr>\n    <tr>\n      <th>2019-02-03</th>\n      <td>15957.0</td>\n      <td>48316.0</td>\n      <td>6802.0</td>\n      <td>NaN</td>\n      <td>49140.0</td>\n      <td>21795.0</td>\n      <td>141970.0</td>\n      <td>19584.0</td>\n      <td>NaN</td>\n      <td>1668.0</td>\n      <td>...</td>\n      <td>30743.0</td>\n      <td>173091.0</td>\n      <td>24039.0</td>\n      <td>9328.0</td>\n      <td>13448.0</td>\n      <td>314069.0</td>\n      <td>383732.0</td>\n      <td>36416.0</td>\n      <td>28014.0</td>\n      <td>11463.0</td>\n    </tr>\n    <tr>\n      <th>2019-02-04</th>\n      <td>15898.0</td>\n      <td>48960.0</td>\n      <td>7872.0</td>\n      <td>NaN</td>\n      <td>51022.0</td>\n      <td>19296.0</td>\n      <td>152418.0</td>\n      <td>17851.0</td>\n      <td>NaN</td>\n      <td>1505.0</td>\n      <td>...</td>\n      <td>29829.0</td>\n      <td>165435.0</td>\n      <td>25106.0</td>\n      <td>11959.0</td>\n      <td>12482.0</td>\n      <td>301276.0</td>\n      <td>386249.0</td>\n      <td>36902.0</td>\n      <td>31007.0</td>\n      <td>9444.0</td>\n    </tr>\n    <tr>\n      <th>2019-02-05</th>\n      <td>18564.0</td>\n      <td>58377.0</td>\n      <td>10308.0</td>\n      <td>NaN</td>\n      <td>73828.0</td>\n      <td>22728.0</td>\n      <td>185770.0</td>\n      <td>22315.0</td>\n      <td>NaN</td>\n      <td>1593.0</td>\n      <td>...</td>\n      <td>40717.0</td>\n      <td>216642.0</td>\n      <td>30576.0</td>\n      <td>14543.0</td>\n      <td>14832.0</td>\n      <td>368852.0</td>\n      <td>472673.0</td>\n      <td>43790.0</td>\n      <td>36222.0</td>\n      <td>11235.0</td>\n    </tr>\n    <tr>\n      <th>...</th>\n      <td>...</td>\n      <td>...</td>\n      <td>...</td>\n      <td>...</td>\n      <td>...</td>\n      <td>...</td>\n      <td>...</td>\n      <td>...</td>\n      <td>...</td>\n      <td>...</td>\n      <td>...</td>\n      <td>...</td>\n      <td>...</td>\n      <td>...</td>\n      <td>...</td>\n      <td>...</td>\n      <td>...</td>\n      <td>...</td>\n      <td>...</td>\n      <td>...</td>\n      <td>...</td>\n    </tr>\n    <tr>\n      <th>2021-01-13</th>\n      <td>13666.0</td>\n      <td>40076.0</td>\n      <td>7573.0</td>\n      <td>42183.0</td>\n      <td>16030.0</td>\n      <td>26992.0</td>\n      <td>145809.0</td>\n      <td>8776.0</td>\n      <td>5200.0</td>\n      <td>1577.0</td>\n      <td>...</td>\n      <td>27686.0</td>\n      <td>128383.0</td>\n      <td>13364.0</td>\n      <td>4295.0</td>\n      <td>25404.0</td>\n      <td>243757.0</td>\n      <td>288740.0</td>\n      <td>47581.0</td>\n      <td>24766.0</td>\n      <td>10994.0</td>\n    </tr>\n    <tr>\n      <th>2021-01-14</th>\n      <td>9999.0</td>\n      <td>31672.0</td>\n      <td>5507.0</td>\n      <td>35514.0</td>\n      <td>11453.0</td>\n      <td>18457.0</td>\n      <td>127685.0</td>\n      <td>6323.0</td>\n      <td>4797.0</td>\n      <td>1081.0</td>\n      <td>...</td>\n      <td>19383.0</td>\n      <td>108859.0</td>\n      <td>10934.0</td>\n      <td>3011.0</td>\n      <td>20153.0</td>\n      <td>173356.0</td>\n      <td>211754.0</td>\n      <td>35417.0</td>\n      <td>19945.0</td>\n      <td>7885.0</td>\n    </tr>\n    <tr>\n      <th>2021-01-15</th>\n      <td>12533.0</td>\n      <td>38204.0</td>\n      <td>9411.0</td>\n      <td>43293.0</td>\n      <td>16429.0</td>\n      <td>26768.0</td>\n      <td>145873.0</td>\n      <td>9193.0</td>\n      <td>5499.0</td>\n      <td>2175.0</td>\n      <td>...</td>\n      <td>27155.0</td>\n      <td>129200.0</td>\n      <td>13384.0</td>\n      <td>4587.0</td>\n      <td>24826.0</td>\n      <td>226515.0</td>\n      <td>263942.0</td>\n      <td>49468.0</td>\n      <td>25125.0</td>\n      <td>11294.0</td>\n    </tr>\n    <tr>\n      <th>2021-01-16</th>\n      <td>11536.0</td>\n      <td>39361.0</td>\n      <td>8555.0</td>\n      <td>47550.0</td>\n      <td>18173.0</td>\n      <td>35953.0</td>\n      <td>143189.0</td>\n      <td>10880.0</td>\n      <td>5084.0</td>\n      <td>2743.0</td>\n      <td>...</td>\n      <td>25433.0</td>\n      <td>136130.0</td>\n      <td>13921.0</td>\n      <td>3933.0</td>\n      <td>24087.0</td>\n      <td>296270.0</td>\n      <td>303428.0</td>\n      <td>48177.0</td>\n      <td>22960.0</td>\n      <td>11794.0</td>\n    </tr>\n    <tr>\n      <th>2021-01-17</th>\n      <td>10481.0</td>\n      <td>36131.0</td>\n      <td>7231.0</td>\n      <td>7621.0</td>\n      <td>15839.0</td>\n      <td>29357.0</td>\n      <td>135722.0</td>\n      <td>8432.0</td>\n      <td>4454.0</td>\n      <td>2414.0</td>\n      <td>...</td>\n      <td>23635.0</td>\n      <td>136287.0</td>\n      <td>12563.0</td>\n      <td>3513.0</td>\n      <td>22579.0</td>\n      <td>286734.0</td>\n      <td>290344.0</td>\n      <td>43621.0</td>\n      <td>22819.0</td>\n      <td>10013.0</td>\n    </tr>\n  </tbody>\n</table>\n<p>717 rows × 22 columns</p>\n</div>"
     },
     "metadata": {},
     "execution_count": 7
    }
   ],
   "source": [
    "data"
   ]
  },
  {
   "source": [
    "## Prepare Data"
   ],
   "cell_type": "markdown",
   "metadata": {}
  },
  {
   "cell_type": "code",
   "execution_count": 8,
   "metadata": {
    "tags": []
   },
   "outputs": [
    {
     "output_type": "stream",
     "name": "stdout",
     "text": [
      "scaled_train_data.shape: (275, 1)\nx_train: row: 270 col: 5\n"
     ]
    }
   ],
   "source": [
    "# scale date to fit between 0 - 1\n",
    "scalar = MinMaxScaler(feature_range=(0,1))\n",
    "scaled_train_data = scalar.fit_transform(train_company_data.values.reshape(-1,1))\n",
    "print(f\"scaled_train_data.shape: {scaled_train_data.shape}\")\n",
    "\n",
    "# how many days to look into past\n",
    "# window of data to use for pridiction\n",
    "# larger window is less sensative to recent stock prices\n",
    "# smaller window is more sensitive to recent stock prices\n",
    "prediction_days = 5\n",
    "\n",
    "size_data = len(scaled_train_data)\n",
    "\n",
    "# x_train is a sliding window of 60 days of data\n",
    "x_train = []\n",
    "\n",
    "# y_train is the closing day value of stocks on 60th day\n",
    "y_train = []\n",
    "\n",
    "for x in range(prediction_days, size_data):\n",
    "    prev_x = x - prediction_days\n",
    "    x_training_data = scaled_train_data[prev_x:x, 0]\n",
    "    # x_training_data shape = (60,)\n",
    "    x_train.append(x_training_data)\n",
    "\n",
    "    y_training_data = scaled_train_data[x, 0]\n",
    "    # y_training_data shape = ()\n",
    "    y_train.append(y_training_data)\n",
    "\n",
    "x_train = list_to_np_array(x_train, \"x_train\")\n",
    "y_train = np.array(y_train)\n"
   ]
  },
  {
   "source": [
    "## Build model"
   ],
   "cell_type": "markdown",
   "metadata": {}
  },
  {
   "cell_type": "code",
   "execution_count": 9,
   "metadata": {},
   "outputs": [
    {
     "output_type": "stream",
     "name": "stdout",
     "text": [
      "Epoch 1/25\n",
      "9/9 [==============================] - 5s 11ms/step - loss: 0.2954 - rmse: 0.5435\n",
      "Epoch 2/25\n",
      "9/9 [==============================] - 0s 11ms/step - loss: 0.2249 - rmse: 0.4741\n",
      "Epoch 3/25\n",
      "9/9 [==============================] - 0s 8ms/step - loss: 0.1446 - rmse: 0.3801\n",
      "Epoch 4/25\n",
      "9/9 [==============================] - 0s 8ms/step - loss: 0.0622 - rmse: 0.2487\n",
      "Epoch 5/25\n",
      "9/9 [==============================] - 0s 8ms/step - loss: 0.0215 - rmse: 0.1465\n",
      "Epoch 6/25\n",
      "9/9 [==============================] - 0s 8ms/step - loss: 0.0296 - rmse: 0.1712\n",
      "Epoch 7/25\n",
      "9/9 [==============================] - 0s 8ms/step - loss: 0.0179 - rmse: 0.1329\n",
      "Epoch 8/25\n",
      "9/9 [==============================] - 0s 8ms/step - loss: 0.0207 - rmse: 0.1437\n",
      "Epoch 9/25\n",
      "9/9 [==============================] - 0s 8ms/step - loss: 0.0193 - rmse: 0.1388\n",
      "Epoch 10/25\n",
      "9/9 [==============================] - 0s 8ms/step - loss: 0.0234 - rmse: 0.1525\n",
      "Epoch 11/25\n",
      "9/9 [==============================] - 0s 8ms/step - loss: 0.0219 - rmse: 0.1473\n",
      "Epoch 12/25\n",
      "9/9 [==============================] - 0s 8ms/step - loss: 0.0177 - rmse: 0.1327\n",
      "Epoch 13/25\n",
      "9/9 [==============================] - 0s 8ms/step - loss: 0.0171 - rmse: 0.1303\n",
      "Epoch 14/25\n",
      "9/9 [==============================] - 0s 8ms/step - loss: 0.0163 - rmse: 0.1270\n",
      "Epoch 15/25\n",
      "9/9 [==============================] - 0s 8ms/step - loss: 0.0185 - rmse: 0.1358\n",
      "Epoch 16/25\n",
      "9/9 [==============================] - 0s 8ms/step - loss: 0.0173 - rmse: 0.1314\n",
      "Epoch 17/25\n",
      "9/9 [==============================] - 0s 7ms/step - loss: 0.0184 - rmse: 0.1355\n",
      "Epoch 18/25\n",
      "9/9 [==============================] - 0s 8ms/step - loss: 0.0184 - rmse: 0.1357\n",
      "Epoch 19/25\n",
      "9/9 [==============================] - 0s 8ms/step - loss: 0.0200 - rmse: 0.1414\n",
      "Epoch 20/25\n",
      "9/9 [==============================] - 0s 8ms/step - loss: 0.0178 - rmse: 0.1332\n",
      "Epoch 21/25\n",
      "9/9 [==============================] - 0s 7ms/step - loss: 0.0169 - rmse: 0.1300\n",
      "Epoch 22/25\n",
      "9/9 [==============================] - 0s 8ms/step - loss: 0.0198 - rmse: 0.1404\n",
      "Epoch 23/25\n",
      "9/9 [==============================] - 0s 7ms/step - loss: 0.0181 - rmse: 0.1345\n",
      "Epoch 24/25\n",
      "9/9 [==============================] - 0s 7ms/step - loss: 0.0178 - rmse: 0.1333\n",
      "Epoch 25/25\n",
      "9/9 [==============================] - 0s 8ms/step - loss: 0.0190 - rmse: 0.1376\n"
     ]
    },
    {
     "output_type": "execute_result",
     "data": {
      "text/plain": [
       "<tensorflow.python.keras.callbacks.History at 0x16f2b68d0>"
      ]
     },
     "metadata": {},
     "execution_count": 9
    }
   ],
   "source": [
    "model = Sequential()\n",
    "# you can tweak this parameter\n",
    "units = 15\n",
    "# x_train.shape[1] = 30\n",
    "model.add(LSTM(units=units, return_sequences= True, input_shape=(x_train.shape[1], 1)))\n",
    "model.add(Dropout(0.2))\n",
    "\n",
    "model.add(LSTM(units=units, return_sequences= True))\n",
    "model.add(Dropout(0.2))\n",
    "\n",
    "model.add(LSTM(units=units))\n",
    "model.add(Dropout(0.2))\n",
    "\n",
    "model.add(Dense(units=1)) # predict the closing price\n",
    "\n",
    "model.compile(optimizer=\"adam\", loss=\"mean_squared_error\", metrics=[RootMeanSquaredError(name=\"rmse\")])\n",
    "model.fit(x_train, y_train, epochs=25, batch_size=32)\n"
   ]
  },
  {
   "source": [
    "## Load test data"
   ],
   "cell_type": "markdown",
   "metadata": {}
  },
  {
   "cell_type": "code",
   "execution_count": 10,
   "metadata": {},
   "outputs": [
    {
     "output_type": "stream",
     "name": "stdout",
     "text": [
      "train_data[company].shape: (275,)\ntest_data[company].shape: (383,)\ntotal_dataset.shape (658,) <class 'pandas.core.series.Series'>\nstart_index: 270\n"
     ]
    }
   ],
   "source": [
    "test_start = dt.datetime(2020,1,1)\n",
    "test_end = dt.datetime(2021,1,17)\n",
    "\n",
    "test_data = data.loc[test_start:test_end].copy(deep = True)\n",
    "# test_data = web.DataReader(company, 'yahoo', test_start, test_end)\n",
    "y_test = test_data[company].values\n",
    "print(f\"train_data[company].shape: {train_data[company].shape}\")\n",
    "print(f\"test_data[company].shape: {test_data[company].shape}\")\n",
    "\n",
    "total_dataset = pd.concat((train_data[company], test_data[company]), axis=ROW_AXIS)\n",
    "print(\"total_dataset.shape\", total_dataset.shape, type(total_dataset))\n",
    "start_index = len(total_dataset) - len(test_data) - prediction_days\n",
    "print(f\"start_index: {start_index}\")\n",
    "\n",
    "# model_inputs is a list\n",
    "model_inputs = total_dataset[start_index:].values\n",
    "model_inputs_date = total_dataset[start_index:].index\n",
    "# print(\"total_dataset[start_index:].values\", model_inputs.shape, model_inputs[:-1])\n",
    "\n",
    "# model_inputs is a column\n",
    "model_inputs = model_inputs.reshape(-1,1)\n",
    "# print(\"model_inputs.reshape(-1,1)\", model_inputs.shape, model_inputs[:-1])\n",
    "\n",
    "# model_input is a column of scaled values\n",
    "model_inputs = scalar.transform(model_inputs)\n",
    "# print(\"scalar.transform(model_inputs)\", model_inputs.shape, model_inputs[:-1])"
   ]
  },
  {
   "source": [
    "## Make predictions on test data"
   ],
   "cell_type": "markdown",
   "metadata": {}
  },
  {
   "cell_type": "code",
   "execution_count": 11,
   "metadata": {},
   "outputs": [
    {
     "output_type": "stream",
     "name": "stdout",
     "text": [
      "x_test: row: 383 col: 5\n"
     ]
    }
   ],
   "source": [
    "x_test = []\n",
    "x_test_date = []\n",
    "for x in range(prediction_days, len(model_inputs)):\n",
    "    x_test.append(model_inputs[x-prediction_days:x, 0])\n",
    "    x_test_date.append(model_inputs_date[x])\n",
    "\n",
    "x_test = list_to_np_array(x_test, \"x_test\")\n",
    "\n",
    "predicted_prices = model.predict(x_test)\n",
    "# reverse the scaling\n",
    "predicted_prices = scalar.inverse_transform(predicted_prices)\n"
   ]
  },
  {
   "cell_type": "code",
   "execution_count": 12,
   "metadata": {},
   "outputs": [
    {
     "output_type": "execute_result",
     "data": {
      "text/plain": [
       "(383,)"
      ]
     },
     "metadata": {},
     "execution_count": 12
    }
   ],
   "source": [
    "np.shape(x_test_date)"
   ]
  },
  {
   "source": [
    "## Plot test predictions"
   ],
   "cell_type": "markdown",
   "metadata": {}
  },
  {
   "cell_type": "code",
   "execution_count": 13,
   "metadata": {},
   "outputs": [
    {
     "output_type": "display_data",
     "data": {
      "application/vnd.plotly.v1+json": {
       "config": {
        "plotlyServerURL": "https://plot.ly"
       },
       "data": [
        {
         "name": "predicted",
         "type": "scatter",
         "x": [
          "2020-01-01T00:00:00",
          "2020-01-02T00:00:00",
          "2020-01-03T00:00:00",
          "2020-01-04T00:00:00",
          "2020-01-05T00:00:00",
          "2020-01-06T00:00:00",
          "2020-01-07T00:00:00",
          "2020-01-08T00:00:00",
          "2020-01-09T00:00:00",
          "2020-01-10T00:00:00",
          "2020-01-11T00:00:00",
          "2020-01-12T00:00:00",
          "2020-01-13T00:00:00",
          "2020-01-14T00:00:00",
          "2020-01-15T00:00:00",
          "2020-01-16T00:00:00",
          "2020-01-17T00:00:00",
          "2020-01-18T00:00:00",
          "2020-01-19T00:00:00",
          "2020-01-20T00:00:00",
          "2020-01-21T00:00:00",
          "2020-01-22T00:00:00",
          "2020-01-23T00:00:00",
          "2020-01-24T00:00:00",
          "2020-01-25T00:00:00",
          "2020-01-26T00:00:00",
          "2020-01-27T00:00:00",
          "2020-01-28T00:00:00",
          "2020-01-29T00:00:00",
          "2020-01-30T00:00:00",
          "2020-01-31T00:00:00",
          "2020-02-01T00:00:00",
          "2020-02-02T00:00:00",
          "2020-02-03T00:00:00",
          "2020-02-04T00:00:00",
          "2020-02-05T00:00:00",
          "2020-02-06T00:00:00",
          "2020-02-07T00:00:00",
          "2020-02-08T00:00:00",
          "2020-02-09T00:00:00",
          "2020-02-10T00:00:00",
          "2020-02-11T00:00:00",
          "2020-02-12T00:00:00",
          "2020-02-13T00:00:00",
          "2020-02-14T00:00:00",
          "2020-02-15T00:00:00",
          "2020-02-16T00:00:00",
          "2020-02-17T00:00:00",
          "2020-02-18T00:00:00",
          "2020-02-19T00:00:00",
          "2020-02-20T00:00:00",
          "2020-02-21T00:00:00",
          "2020-02-22T00:00:00",
          "2020-02-23T00:00:00",
          "2020-02-24T00:00:00",
          "2020-02-25T00:00:00",
          "2020-02-26T00:00:00",
          "2020-02-27T00:00:00",
          "2020-02-28T00:00:00",
          "2020-02-29T00:00:00",
          "2020-03-01T00:00:00",
          "2020-03-02T00:00:00",
          "2020-03-03T00:00:00",
          "2020-03-04T00:00:00",
          "2020-03-05T00:00:00",
          "2020-03-06T00:00:00",
          "2020-03-07T00:00:00",
          "2020-03-08T00:00:00",
          "2020-03-09T00:00:00",
          "2020-03-10T00:00:00",
          "2020-03-11T00:00:00",
          "2020-03-12T00:00:00",
          "2020-03-13T00:00:00",
          "2020-03-14T00:00:00",
          "2020-03-15T00:00:00",
          "2020-03-16T00:00:00",
          "2020-03-17T00:00:00",
          "2020-03-18T00:00:00",
          "2020-03-19T00:00:00",
          "2020-03-20T00:00:00",
          "2020-03-21T00:00:00",
          "2020-03-22T00:00:00",
          "2020-03-23T00:00:00",
          "2020-03-24T00:00:00",
          "2020-03-25T00:00:00",
          "2020-03-26T00:00:00",
          "2020-03-27T00:00:00",
          "2020-03-28T00:00:00",
          "2020-03-29T00:00:00",
          "2020-03-30T00:00:00",
          "2020-03-31T00:00:00",
          "2020-04-01T00:00:00",
          "2020-04-02T00:00:00",
          "2020-04-03T00:00:00",
          "2020-04-04T00:00:00",
          "2020-04-05T00:00:00",
          "2020-04-06T00:00:00",
          "2020-04-07T00:00:00",
          "2020-04-08T00:00:00",
          "2020-04-09T00:00:00",
          "2020-04-10T00:00:00",
          "2020-04-11T00:00:00",
          "2020-04-12T00:00:00",
          "2020-04-13T00:00:00",
          "2020-04-14T00:00:00",
          "2020-04-15T00:00:00",
          "2020-04-16T00:00:00",
          "2020-04-17T00:00:00",
          "2020-04-18T00:00:00",
          "2020-04-19T00:00:00",
          "2020-04-20T00:00:00",
          "2020-04-21T00:00:00",
          "2020-04-22T00:00:00",
          "2020-04-23T00:00:00",
          "2020-04-24T00:00:00",
          "2020-04-25T00:00:00",
          "2020-04-26T00:00:00",
          "2020-04-27T00:00:00",
          "2020-04-28T00:00:00",
          "2020-04-29T00:00:00",
          "2020-04-30T00:00:00",
          "2020-05-01T00:00:00",
          "2020-05-02T00:00:00",
          "2020-05-03T00:00:00",
          "2020-05-04T00:00:00",
          "2020-05-05T00:00:00",
          "2020-05-06T00:00:00",
          "2020-05-07T00:00:00",
          "2020-05-08T00:00:00",
          "2020-05-09T00:00:00",
          "2020-05-10T00:00:00",
          "2020-05-11T00:00:00",
          "2020-05-12T00:00:00",
          "2020-05-13T00:00:00",
          "2020-05-14T00:00:00",
          "2020-05-15T00:00:00",
          "2020-05-16T00:00:00",
          "2020-05-17T00:00:00",
          "2020-05-18T00:00:00",
          "2020-05-19T00:00:00",
          "2020-05-20T00:00:00",
          "2020-05-21T00:00:00",
          "2020-05-22T00:00:00",
          "2020-05-23T00:00:00",
          "2020-05-24T00:00:00",
          "2020-05-25T00:00:00",
          "2020-05-26T00:00:00",
          "2020-05-27T00:00:00",
          "2020-05-28T00:00:00",
          "2020-05-29T00:00:00",
          "2020-05-30T00:00:00",
          "2020-05-31T00:00:00",
          "2020-06-01T00:00:00",
          "2020-06-02T00:00:00",
          "2020-06-03T00:00:00",
          "2020-06-04T00:00:00",
          "2020-06-05T00:00:00",
          "2020-06-06T00:00:00",
          "2020-06-07T00:00:00",
          "2020-06-08T00:00:00",
          "2020-06-09T00:00:00",
          "2020-06-10T00:00:00",
          "2020-06-11T00:00:00",
          "2020-06-12T00:00:00",
          "2020-06-13T00:00:00",
          "2020-06-14T00:00:00",
          "2020-06-15T00:00:00",
          "2020-06-16T00:00:00",
          "2020-06-17T00:00:00",
          "2020-06-18T00:00:00",
          "2020-06-19T00:00:00",
          "2020-06-20T00:00:00",
          "2020-06-21T00:00:00",
          "2020-06-22T00:00:00",
          "2020-06-23T00:00:00",
          "2020-06-24T00:00:00",
          "2020-06-25T00:00:00",
          "2020-06-26T00:00:00",
          "2020-06-27T00:00:00",
          "2020-06-28T00:00:00",
          "2020-06-29T00:00:00",
          "2020-06-30T00:00:00",
          "2020-07-01T00:00:00",
          "2020-07-02T00:00:00",
          "2020-07-03T00:00:00",
          "2020-07-04T00:00:00",
          "2020-07-05T00:00:00",
          "2020-07-06T00:00:00",
          "2020-07-07T00:00:00",
          "2020-07-08T00:00:00",
          "2020-07-09T00:00:00",
          "2020-07-10T00:00:00",
          "2020-07-11T00:00:00",
          "2020-07-12T00:00:00",
          "2020-07-13T00:00:00",
          "2020-07-14T00:00:00",
          "2020-07-15T00:00:00",
          "2020-07-16T00:00:00",
          "2020-07-17T00:00:00",
          "2020-07-18T00:00:00",
          "2020-07-19T00:00:00",
          "2020-07-20T00:00:00",
          "2020-07-21T00:00:00",
          "2020-07-22T00:00:00",
          "2020-07-23T00:00:00",
          "2020-07-24T00:00:00",
          "2020-07-25T00:00:00",
          "2020-07-26T00:00:00",
          "2020-07-27T00:00:00",
          "2020-07-28T00:00:00",
          "2020-07-29T00:00:00",
          "2020-07-30T00:00:00",
          "2020-07-31T00:00:00",
          "2020-08-01T00:00:00",
          "2020-08-02T00:00:00",
          "2020-08-03T00:00:00",
          "2020-08-04T00:00:00",
          "2020-08-05T00:00:00",
          "2020-08-06T00:00:00",
          "2020-08-07T00:00:00",
          "2020-08-08T00:00:00",
          "2020-08-09T00:00:00",
          "2020-08-10T00:00:00",
          "2020-08-11T00:00:00",
          "2020-08-12T00:00:00",
          "2020-08-13T00:00:00",
          "2020-08-14T00:00:00",
          "2020-08-15T00:00:00",
          "2020-08-16T00:00:00",
          "2020-08-17T00:00:00",
          "2020-08-18T00:00:00",
          "2020-08-19T00:00:00",
          "2020-08-20T00:00:00",
          "2020-08-21T00:00:00",
          "2020-08-22T00:00:00",
          "2020-08-23T00:00:00",
          "2020-08-24T00:00:00",
          "2020-08-25T00:00:00",
          "2020-08-26T00:00:00",
          "2020-08-27T00:00:00",
          "2020-08-28T00:00:00",
          "2020-08-29T00:00:00",
          "2020-08-30T00:00:00",
          "2020-08-31T00:00:00",
          "2020-09-01T00:00:00",
          "2020-09-02T00:00:00",
          "2020-09-03T00:00:00",
          "2020-09-04T00:00:00",
          "2020-09-05T00:00:00",
          "2020-09-06T00:00:00",
          "2020-09-07T00:00:00",
          "2020-09-08T00:00:00",
          "2020-09-09T00:00:00",
          "2020-09-10T00:00:00",
          "2020-09-11T00:00:00",
          "2020-09-12T00:00:00",
          "2020-09-13T00:00:00",
          "2020-09-14T00:00:00",
          "2020-09-15T00:00:00",
          "2020-09-16T00:00:00",
          "2020-09-17T00:00:00",
          "2020-09-18T00:00:00",
          "2020-09-19T00:00:00",
          "2020-09-20T00:00:00",
          "2020-09-21T00:00:00",
          "2020-09-22T00:00:00",
          "2020-09-23T00:00:00",
          "2020-09-24T00:00:00",
          "2020-09-25T00:00:00",
          "2020-09-26T00:00:00",
          "2020-09-27T00:00:00",
          "2020-09-28T00:00:00",
          "2020-09-29T00:00:00",
          "2020-09-30T00:00:00",
          "2020-10-01T00:00:00",
          "2020-10-02T00:00:00",
          "2020-10-03T00:00:00",
          "2020-10-04T00:00:00",
          "2020-10-05T00:00:00",
          "2020-10-06T00:00:00",
          "2020-10-07T00:00:00",
          "2020-10-08T00:00:00",
          "2020-10-09T00:00:00",
          "2020-10-10T00:00:00",
          "2020-10-11T00:00:00",
          "2020-10-12T00:00:00",
          "2020-10-13T00:00:00",
          "2020-10-14T00:00:00",
          "2020-10-15T00:00:00",
          "2020-10-16T00:00:00",
          "2020-10-17T00:00:00",
          "2020-10-18T00:00:00",
          "2020-10-19T00:00:00",
          "2020-10-20T00:00:00",
          "2020-10-21T00:00:00",
          "2020-10-22T00:00:00",
          "2020-10-23T00:00:00",
          "2020-10-24T00:00:00",
          "2020-10-25T00:00:00",
          "2020-10-26T00:00:00",
          "2020-10-27T00:00:00",
          "2020-10-28T00:00:00",
          "2020-10-29T00:00:00",
          "2020-10-30T00:00:00",
          "2020-10-31T00:00:00",
          "2020-11-01T00:00:00",
          "2020-11-02T00:00:00",
          "2020-11-03T00:00:00",
          "2020-11-04T00:00:00",
          "2020-11-05T00:00:00",
          "2020-11-06T00:00:00",
          "2020-11-07T00:00:00",
          "2020-11-08T00:00:00",
          "2020-11-09T00:00:00",
          "2020-11-10T00:00:00",
          "2020-11-11T00:00:00",
          "2020-11-12T00:00:00",
          "2020-11-13T00:00:00",
          "2020-11-14T00:00:00",
          "2020-11-15T00:00:00",
          "2020-11-16T00:00:00",
          "2020-11-17T00:00:00",
          "2020-11-18T00:00:00",
          "2020-11-19T00:00:00",
          "2020-11-20T00:00:00",
          "2020-11-21T00:00:00",
          "2020-11-22T00:00:00",
          "2020-11-23T00:00:00",
          "2020-11-24T00:00:00",
          "2020-11-25T00:00:00",
          "2020-11-26T00:00:00",
          "2020-11-27T00:00:00",
          "2020-11-28T00:00:00",
          "2020-11-29T00:00:00",
          "2020-11-30T00:00:00",
          "2020-12-01T00:00:00",
          "2020-12-02T00:00:00",
          "2020-12-03T00:00:00",
          "2020-12-04T00:00:00",
          "2020-12-05T00:00:00",
          "2020-12-06T00:00:00",
          "2020-12-07T00:00:00",
          "2020-12-08T00:00:00",
          "2020-12-09T00:00:00",
          "2020-12-10T00:00:00",
          "2020-12-11T00:00:00",
          "2020-12-12T00:00:00",
          "2020-12-13T00:00:00",
          "2020-12-14T00:00:00",
          "2020-12-15T00:00:00",
          "2020-12-16T00:00:00",
          "2020-12-17T00:00:00",
          "2020-12-18T00:00:00",
          "2020-12-19T00:00:00",
          "2020-12-20T00:00:00",
          "2020-12-21T00:00:00",
          "2020-12-22T00:00:00",
          "2020-12-23T00:00:00",
          "2020-12-24T00:00:00",
          "2020-12-25T00:00:00",
          "2020-12-26T00:00:00",
          "2020-12-27T00:00:00",
          "2020-12-28T00:00:00",
          "2020-12-29T00:00:00",
          "2020-12-30T00:00:00",
          "2020-12-31T00:00:00",
          "2021-01-01T00:00:00",
          "2021-01-02T00:00:00",
          "2021-01-03T00:00:00",
          "2021-01-04T00:00:00",
          "2021-01-05T00:00:00",
          "2021-01-06T00:00:00",
          "2021-01-07T00:00:00",
          "2021-01-08T00:00:00",
          "2021-01-09T00:00:00",
          "2021-01-10T00:00:00",
          "2021-01-11T00:00:00",
          "2021-01-12T00:00:00",
          "2021-01-13T00:00:00",
          "2021-01-14T00:00:00",
          "2021-01-15T00:00:00",
          "2021-01-16T00:00:00",
          "2021-01-17T00:00:00"
         ],
         "y": [
          37578.19921875,
          38452.23046875,
          39592.30078125,
          42711.54296875,
          46795.515625,
          51767.546875,
          54058.375,
          55747.28515625,
          53183.38671875,
          55640.1015625,
          57359.7734375,
          56340.625,
          58652.1953125,
          57282.33984375,
          58170.4765625,
          53188.00390625,
          52995.4921875,
          52462.796875,
          52135.34375,
          55963.83984375,
          55596.5,
          58188.60546875,
          54442.06640625,
          55893.41796875,
          56767.078125,
          56096.44921875,
          58825.1875,
          57800.7578125,
          59329.546875,
          55524.2890625,
          56897.72265625,
          57317.79296875,
          56428.4453125,
          59543.671875,
          59375.421875,
          62507.046875,
          59341.17578125,
          59307.5,
          59861.58203125,
          58917.80078125,
          62488.90625,
          62344.54296875,
          64999.1171875,
          62015.8515625,
          62813.28125,
          62735.9453125,
          59799.02734375,
          59543.45703125,
          52453.94140625,
          47969.44140625,
          45988.3671875,
          46525.5390625,
          46473.65234375,
          45300.53125,
          46883.8125,
          46402.86328125,
          47633.34375,
          45120.3359375,
          46886.9140625,
          47168.37890625,
          47223.16796875,
          50125.77734375,
          50373.15625,
          51531.875,
          47539.2578125,
          46114.65234375,
          44475.8203125,
          43457.7578125,
          44876.11328125,
          44069.7890625,
          44610.40625,
          41486.51953125,
          40507.80078125,
          41464.53515625,
          42784.76171875,
          44851.3984375,
          45096.28515625,
          46596.42578125,
          44710.2890625,
          41916.0625,
          40312.8515625,
          38622.578125,
          38161.48046875,
          37753.19140625,
          37351.5703125,
          36029.359375,
          35158.02734375,
          34771.25,
          34472.57421875,
          34344.41015625,
          34328.81640625,
          34335.359375,
          33833.43359375,
          33387.3671875,
          33548.95703125,
          33651.0703125,
          33769.06640625,
          33657.453125,
          33482.9921875,
          32763.05078125,
          32297.3125,
          32405.580078125,
          32403.7890625,
          32393.638671875,
          32560.80859375,
          32729.6796875,
          32487.599609375,
          31848.2890625,
          32271.650390625,
          32319.23828125,
          32749.3515625,
          32914.3203125,
          33290.10546875,
          33491.1171875,
          33272.4140625,
          33831.18359375,
          34696.984375,
          34755.796875,
          35160.44140625,
          35150.26953125,
          35261.63671875,
          34422.82421875,
          34385.19921875,
          34721.875,
          35256.67578125,
          35082.1484375,
          34882.8671875,
          34629.30859375,
          34441.6796875,
          34636.265625,
          35150.87890625,
          35563.55859375,
          35960.32421875,
          36558.265625,
          36842.23828125,
          35403.3203125,
          35491.9765625,
          36046.1640625,
          35923.37109375,
          36050.12890625,
          36577.6015625,
          36616.578125,
          36074.36328125,
          35823.7265625,
          36087.265625,
          36198.10546875,
          36496.06640625,
          36987.70703125,
          36967.50390625,
          36417,
          36380.3671875,
          36845.14453125,
          36996.53125,
          37586.10546875,
          38597.90625,
          40799.3515625,
          42097.5078125,
          43849,
          41905.76953125,
          42364.671875,
          42044.37109375,
          41859.4296875,
          40832.51171875,
          40164.48046875,
          41360.703125,
          41447.41796875,
          41364.44140625,
          41457.31640625,
          41263.1484375,
          40667.92578125,
          39380.45703125,
          39254.96875,
          39539.4453125,
          39540.4921875,
          39956.70703125,
          40222.2734375,
          39719.421875,
          39271.34765625,
          39250.66796875,
          39747.26171875,
          40704.02734375,
          42134.109375,
          42417.6796875,
          41687.84375,
          40848.203125,
          40551.30859375,
          41069.44921875,
          40958.7890625,
          40403.08984375,
          39717.671875,
          38984.48828125,
          38965.671875,
          38917.9609375,
          39049.80078125,
          39226.1796875,
          39951.27734375,
          40344.34375,
          39125.05078125,
          38697.3984375,
          38837.5625,
          39020.8671875,
          39423.03125,
          40057.0625,
          40194.828125,
          39255.97265625,
          38972.2578125,
          39020.40234375,
          38584.0546875,
          38403.4140625,
          38396.734375,
          38734.9609375,
          38396.73828125,
          38018.68359375,
          38102.84375,
          38420.70703125,
          38973.0859375,
          39025.64453125,
          39376.9609375,
          39001.55078125,
          37840.91015625,
          37823.87109375,
          37658.99609375,
          38251.70703125,
          38822.10546875,
          39286.55078125,
          39082.3203125,
          37902.36328125,
          37794.359375,
          38021.359375,
          38649.73046875,
          39052.078125,
          39680.16015625,
          39190.9921875,
          38788.671875,
          38990.39453125,
          39533.79296875,
          40159.62890625,
          40516.53125,
          40711.0078125,
          40607.296875,
          39136.96484375,
          38493.65234375,
          38322.42578125,
          39044.59765625,
          39503.03515625,
          40174.30859375,
          39919.2265625,
          38423.984375,
          37466.8515625,
          38030.70703125,
          38040.36328125,
          38204.453125,
          37883.984375,
          37521.296875,
          36969.63671875,
          37673.76171875,
          37631.12109375,
          37772.30859375,
          37494.51171875,
          37312.7109375,
          37265.71875,
          37242.56640625,
          37656.609375,
          38732.82421875,
          39658.77734375,
          40996.1953125,
          41487.6875,
          40911.14453125,
          39575.5078125,
          38503.2421875,
          38445.40625,
          38954.68359375,
          39523.84375,
          40401.65625,
          40256.6875,
          39020.625,
          38583.34375,
          39210.1015625,
          39916.8046875,
          40575.0390625,
          40742.03515625,
          40341.52734375,
          39318.9765625,
          38415.26171875,
          38999.890625,
          39616.0234375,
          40191.125,
          41499.984375,
          40485.98046875,
          38928.49609375,
          38512.7109375,
          38551.04296875,
          38876.9609375,
          39230.41796875,
          39020.41015625,
          38513.55859375,
          37587.07421875,
          37287.1484375,
          36973.04296875,
          37760.5546875,
          37741.0390625,
          38093.1640625,
          37674.1640625,
          37329.625,
          37555.484375,
          37556.75,
          37456.11328125,
          37576.00390625,
          37316.11328125,
          36953.59375,
          37534.60546875,
          37553.20703125,
          36875.9765625,
          36799.85546875,
          36923.5859375,
          37011.703125,
          37298.8984375,
          37366.2265625,
          37344.70703125,
          37365.9765625,
          37912.38671875,
          38455.91015625,
          39124.2734375,
          38339.59765625,
          37319.2421875,
          36815.54296875,
          36787.4453125,
          37507.59765625,
          37924.34375,
          38407.2421875,
          38391.03515625,
          37422.734375,
          36868.640625,
          36397.21484375,
          35787.1875,
          34945.16015625,
          38767.4140625,
          37985.640625,
          38177.4921875,
          37932.90625,
          37968.30078125,
          38515.45703125,
          38541.4140625,
          38553.37109375,
          38327.71875,
          37607.0078125,
          37212.2109375,
          37076.7578125,
          36961.296875,
          37088.87109375,
          36807.421875,
          37063.21875,
          35828,
          35781.94921875,
          36596.13671875,
          37231.37109375,
          37955.08984375,
          38644.80078125,
          38828.51953125,
          38313.390625,
          37793.984375,
          36989.05078125,
          36509.1328125,
          35375.40234375,
          34623.83203125,
          37894.5234375,
          37578.19921875,
          38032.67578125,
          38162.57421875,
          38956.73828125,
          39660.90234375,
          40137.5546875,
          40361.50390625,
          39380.33984375,
          38754.5625,
          38658.58203125,
          38650.3671875,
          38969.1796875,
          39360.65234375,
          38898.9765625,
          38061.37890625,
          37716.01171875,
          37287.57421875
         ]
        },
        {
         "name": "actual",
         "type": "scatter",
         "x": [
          "2020-01-01T00:00:00",
          "2020-01-02T00:00:00",
          "2020-01-03T00:00:00",
          "2020-01-04T00:00:00",
          "2020-01-05T00:00:00",
          "2020-01-06T00:00:00",
          "2020-01-07T00:00:00",
          "2020-01-08T00:00:00",
          "2020-01-09T00:00:00",
          "2020-01-10T00:00:00",
          "2020-01-11T00:00:00",
          "2020-01-12T00:00:00",
          "2020-01-13T00:00:00",
          "2020-01-14T00:00:00",
          "2020-01-15T00:00:00",
          "2020-01-16T00:00:00",
          "2020-01-17T00:00:00",
          "2020-01-18T00:00:00",
          "2020-01-19T00:00:00",
          "2020-01-20T00:00:00",
          "2020-01-21T00:00:00",
          "2020-01-22T00:00:00",
          "2020-01-23T00:00:00",
          "2020-01-24T00:00:00",
          "2020-01-25T00:00:00",
          "2020-01-26T00:00:00",
          "2020-01-27T00:00:00",
          "2020-01-28T00:00:00",
          "2020-01-29T00:00:00",
          "2020-01-30T00:00:00",
          "2020-01-31T00:00:00",
          "2020-02-01T00:00:00",
          "2020-02-02T00:00:00",
          "2020-02-03T00:00:00",
          "2020-02-04T00:00:00",
          "2020-02-05T00:00:00",
          "2020-02-06T00:00:00",
          "2020-02-07T00:00:00",
          "2020-02-08T00:00:00",
          "2020-02-09T00:00:00",
          "2020-02-10T00:00:00",
          "2020-02-11T00:00:00",
          "2020-02-12T00:00:00",
          "2020-02-13T00:00:00",
          "2020-02-14T00:00:00",
          "2020-02-15T00:00:00",
          "2020-02-16T00:00:00",
          "2020-02-17T00:00:00",
          "2020-02-18T00:00:00",
          "2020-02-19T00:00:00",
          "2020-02-20T00:00:00",
          "2020-02-21T00:00:00",
          "2020-02-22T00:00:00",
          "2020-02-23T00:00:00",
          "2020-02-24T00:00:00",
          "2020-02-25T00:00:00",
          "2020-02-26T00:00:00",
          "2020-02-27T00:00:00",
          "2020-02-28T00:00:00",
          "2020-02-29T00:00:00",
          "2020-03-01T00:00:00",
          "2020-03-02T00:00:00",
          "2020-03-03T00:00:00",
          "2020-03-04T00:00:00",
          "2020-03-05T00:00:00",
          "2020-03-06T00:00:00",
          "2020-03-07T00:00:00",
          "2020-03-08T00:00:00",
          "2020-03-09T00:00:00",
          "2020-03-10T00:00:00",
          "2020-03-11T00:00:00",
          "2020-03-12T00:00:00",
          "2020-03-13T00:00:00",
          "2020-03-14T00:00:00",
          "2020-03-15T00:00:00",
          "2020-03-16T00:00:00",
          "2020-03-17T00:00:00",
          "2020-03-18T00:00:00",
          "2020-03-19T00:00:00",
          "2020-03-20T00:00:00",
          "2020-03-21T00:00:00",
          "2020-03-22T00:00:00",
          "2020-03-23T00:00:00",
          "2020-03-24T00:00:00",
          "2020-03-25T00:00:00",
          "2020-03-26T00:00:00",
          "2020-03-27T00:00:00",
          "2020-03-28T00:00:00",
          "2020-03-29T00:00:00",
          "2020-03-30T00:00:00",
          "2020-03-31T00:00:00",
          "2020-04-01T00:00:00",
          "2020-04-02T00:00:00",
          "2020-04-03T00:00:00",
          "2020-04-04T00:00:00",
          "2020-04-05T00:00:00",
          "2020-04-06T00:00:00",
          "2020-04-07T00:00:00",
          "2020-04-08T00:00:00",
          "2020-04-09T00:00:00",
          "2020-04-10T00:00:00",
          "2020-04-11T00:00:00",
          "2020-04-12T00:00:00",
          "2020-04-13T00:00:00",
          "2020-04-14T00:00:00",
          "2020-04-15T00:00:00",
          "2020-04-16T00:00:00",
          "2020-04-17T00:00:00",
          "2020-04-18T00:00:00",
          "2020-04-19T00:00:00",
          "2020-04-20T00:00:00",
          "2020-04-21T00:00:00",
          "2020-04-22T00:00:00",
          "2020-04-23T00:00:00",
          "2020-04-24T00:00:00",
          "2020-04-25T00:00:00",
          "2020-04-26T00:00:00",
          "2020-04-27T00:00:00",
          "2020-04-28T00:00:00",
          "2020-04-29T00:00:00",
          "2020-04-30T00:00:00",
          "2020-05-01T00:00:00",
          "2020-05-02T00:00:00",
          "2020-05-03T00:00:00",
          "2020-05-04T00:00:00",
          "2020-05-05T00:00:00",
          "2020-05-06T00:00:00",
          "2020-05-07T00:00:00",
          "2020-05-08T00:00:00",
          "2020-05-09T00:00:00",
          "2020-05-10T00:00:00",
          "2020-05-11T00:00:00",
          "2020-05-12T00:00:00",
          "2020-05-13T00:00:00",
          "2020-05-14T00:00:00",
          "2020-05-15T00:00:00",
          "2020-05-16T00:00:00",
          "2020-05-17T00:00:00",
          "2020-05-18T00:00:00",
          "2020-05-19T00:00:00",
          "2020-05-20T00:00:00",
          "2020-05-21T00:00:00",
          "2020-05-22T00:00:00",
          "2020-05-23T00:00:00",
          "2020-05-24T00:00:00",
          "2020-05-25T00:00:00",
          "2020-05-26T00:00:00",
          "2020-05-27T00:00:00",
          "2020-05-28T00:00:00",
          "2020-05-29T00:00:00",
          "2020-05-30T00:00:00",
          "2020-05-31T00:00:00",
          "2020-06-01T00:00:00",
          "2020-06-02T00:00:00",
          "2020-06-03T00:00:00",
          "2020-06-04T00:00:00",
          "2020-06-05T00:00:00",
          "2020-06-06T00:00:00",
          "2020-06-07T00:00:00",
          "2020-06-08T00:00:00",
          "2020-06-09T00:00:00",
          "2020-06-10T00:00:00",
          "2020-06-11T00:00:00",
          "2020-06-12T00:00:00",
          "2020-06-13T00:00:00",
          "2020-06-14T00:00:00",
          "2020-06-15T00:00:00",
          "2020-06-16T00:00:00",
          "2020-06-17T00:00:00",
          "2020-06-18T00:00:00",
          "2020-06-19T00:00:00",
          "2020-06-20T00:00:00",
          "2020-06-21T00:00:00",
          "2020-06-22T00:00:00",
          "2020-06-23T00:00:00",
          "2020-06-24T00:00:00",
          "2020-06-25T00:00:00",
          "2020-06-26T00:00:00",
          "2020-06-27T00:00:00",
          "2020-06-28T00:00:00",
          "2020-06-29T00:00:00",
          "2020-06-30T00:00:00",
          "2020-07-01T00:00:00",
          "2020-07-02T00:00:00",
          "2020-07-03T00:00:00",
          "2020-07-04T00:00:00",
          "2020-07-05T00:00:00",
          "2020-07-06T00:00:00",
          "2020-07-07T00:00:00",
          "2020-07-08T00:00:00",
          "2020-07-09T00:00:00",
          "2020-07-10T00:00:00",
          "2020-07-11T00:00:00",
          "2020-07-12T00:00:00",
          "2020-07-13T00:00:00",
          "2020-07-14T00:00:00",
          "2020-07-15T00:00:00",
          "2020-07-16T00:00:00",
          "2020-07-17T00:00:00",
          "2020-07-18T00:00:00",
          "2020-07-19T00:00:00",
          "2020-07-20T00:00:00",
          "2020-07-21T00:00:00",
          "2020-07-22T00:00:00",
          "2020-07-23T00:00:00",
          "2020-07-24T00:00:00",
          "2020-07-25T00:00:00",
          "2020-07-26T00:00:00",
          "2020-07-27T00:00:00",
          "2020-07-28T00:00:00",
          "2020-07-29T00:00:00",
          "2020-07-30T00:00:00",
          "2020-07-31T00:00:00",
          "2020-08-01T00:00:00",
          "2020-08-02T00:00:00",
          "2020-08-03T00:00:00",
          "2020-08-04T00:00:00",
          "2020-08-05T00:00:00",
          "2020-08-06T00:00:00",
          "2020-08-07T00:00:00",
          "2020-08-08T00:00:00",
          "2020-08-09T00:00:00",
          "2020-08-10T00:00:00",
          "2020-08-11T00:00:00",
          "2020-08-12T00:00:00",
          "2020-08-13T00:00:00",
          "2020-08-14T00:00:00",
          "2020-08-15T00:00:00",
          "2020-08-16T00:00:00",
          "2020-08-17T00:00:00",
          "2020-08-18T00:00:00",
          "2020-08-19T00:00:00",
          "2020-08-20T00:00:00",
          "2020-08-21T00:00:00",
          "2020-08-22T00:00:00",
          "2020-08-23T00:00:00",
          "2020-08-24T00:00:00",
          "2020-08-25T00:00:00",
          "2020-08-26T00:00:00",
          "2020-08-27T00:00:00",
          "2020-08-28T00:00:00",
          "2020-08-29T00:00:00",
          "2020-08-30T00:00:00",
          "2020-08-31T00:00:00",
          "2020-09-01T00:00:00",
          "2020-09-02T00:00:00",
          "2020-09-03T00:00:00",
          "2020-09-04T00:00:00",
          "2020-09-05T00:00:00",
          "2020-09-06T00:00:00",
          "2020-09-07T00:00:00",
          "2020-09-08T00:00:00",
          "2020-09-09T00:00:00",
          "2020-09-10T00:00:00",
          "2020-09-11T00:00:00",
          "2020-09-12T00:00:00",
          "2020-09-13T00:00:00",
          "2020-09-14T00:00:00",
          "2020-09-15T00:00:00",
          "2020-09-16T00:00:00",
          "2020-09-17T00:00:00",
          "2020-09-18T00:00:00",
          "2020-09-19T00:00:00",
          "2020-09-20T00:00:00",
          "2020-09-21T00:00:00",
          "2020-09-22T00:00:00",
          "2020-09-23T00:00:00",
          "2020-09-24T00:00:00",
          "2020-09-25T00:00:00",
          "2020-09-26T00:00:00",
          "2020-09-27T00:00:00",
          "2020-09-28T00:00:00",
          "2020-09-29T00:00:00",
          "2020-09-30T00:00:00",
          "2020-10-01T00:00:00",
          "2020-10-02T00:00:00",
          "2020-10-03T00:00:00",
          "2020-10-04T00:00:00",
          "2020-10-05T00:00:00",
          "2020-10-06T00:00:00",
          "2020-10-07T00:00:00",
          "2020-10-08T00:00:00",
          "2020-10-09T00:00:00",
          "2020-10-10T00:00:00",
          "2020-10-11T00:00:00",
          "2020-10-12T00:00:00",
          "2020-10-13T00:00:00",
          "2020-10-14T00:00:00",
          "2020-10-15T00:00:00",
          "2020-10-16T00:00:00",
          "2020-10-17T00:00:00",
          "2020-10-18T00:00:00",
          "2020-10-19T00:00:00",
          "2020-10-20T00:00:00",
          "2020-10-21T00:00:00",
          "2020-10-22T00:00:00",
          "2020-10-23T00:00:00",
          "2020-10-24T00:00:00",
          "2020-10-25T00:00:00",
          "2020-10-26T00:00:00",
          "2020-10-27T00:00:00",
          "2020-10-28T00:00:00",
          "2020-10-29T00:00:00",
          "2020-10-30T00:00:00",
          "2020-10-31T00:00:00",
          "2020-11-01T00:00:00",
          "2020-11-02T00:00:00",
          "2020-11-03T00:00:00",
          "2020-11-04T00:00:00",
          "2020-11-05T00:00:00",
          "2020-11-06T00:00:00",
          "2020-11-07T00:00:00",
          "2020-11-08T00:00:00",
          "2020-11-09T00:00:00",
          "2020-11-10T00:00:00",
          "2020-11-11T00:00:00",
          "2020-11-12T00:00:00",
          "2020-11-13T00:00:00",
          "2020-11-14T00:00:00",
          "2020-11-15T00:00:00",
          "2020-11-16T00:00:00",
          "2020-11-17T00:00:00",
          "2020-11-18T00:00:00",
          "2020-11-19T00:00:00",
          "2020-11-20T00:00:00",
          "2020-11-21T00:00:00",
          "2020-11-22T00:00:00",
          "2020-11-23T00:00:00",
          "2020-11-24T00:00:00",
          "2020-11-25T00:00:00",
          "2020-11-26T00:00:00",
          "2020-11-27T00:00:00",
          "2020-11-28T00:00:00",
          "2020-11-29T00:00:00",
          "2020-11-30T00:00:00",
          "2020-12-01T00:00:00",
          "2020-12-02T00:00:00",
          "2020-12-03T00:00:00",
          "2020-12-04T00:00:00",
          "2020-12-05T00:00:00",
          "2020-12-06T00:00:00",
          "2020-12-07T00:00:00",
          "2020-12-08T00:00:00",
          "2020-12-09T00:00:00",
          "2020-12-10T00:00:00",
          "2020-12-11T00:00:00",
          "2020-12-12T00:00:00",
          "2020-12-13T00:00:00",
          "2020-12-14T00:00:00",
          "2020-12-15T00:00:00",
          "2020-12-16T00:00:00",
          "2020-12-17T00:00:00",
          "2020-12-18T00:00:00",
          "2020-12-19T00:00:00",
          "2020-12-20T00:00:00",
          "2020-12-21T00:00:00",
          "2020-12-22T00:00:00",
          "2020-12-23T00:00:00",
          "2020-12-24T00:00:00",
          "2020-12-25T00:00:00",
          "2020-12-26T00:00:00",
          "2020-12-27T00:00:00",
          "2020-12-28T00:00:00",
          "2020-12-29T00:00:00",
          "2020-12-30T00:00:00",
          "2020-12-31T00:00:00",
          "2021-01-01T00:00:00",
          "2021-01-02T00:00:00",
          "2021-01-03T00:00:00",
          "2021-01-04T00:00:00",
          "2021-01-05T00:00:00",
          "2021-01-06T00:00:00",
          "2021-01-07T00:00:00",
          "2021-01-08T00:00:00",
          "2021-01-09T00:00:00",
          "2021-01-10T00:00:00",
          "2021-01-11T00:00:00",
          "2021-01-12T00:00:00",
          "2021-01-13T00:00:00",
          "2021-01-14T00:00:00",
          "2021-01-15T00:00:00",
          "2021-01-16T00:00:00",
          "2021-01-17T00:00:00"
         ],
         "y": [
          62463,
          67611,
          93935,
          64456,
          73785,
          90192,
          70620,
          92339,
          74662,
          106338,
          73583,
          78263,
          77574,
          55736,
          83640,
          65672,
          103525,
          71063,
          78427,
          87569,
          68510,
          92554,
          75379,
          106436,
          73003,
          82330,
          91132,
          69350,
          92404,
          72038,
          110880,
          88547,
          87969,
          97934,
          72923,
          99506,
          81907,
          118423,
          92216,
          95487,
          106464,
          82728,
          114741,
          88871,
          70695,
          54193,
          59395,
          64739,
          48883,
          62264,
          51262,
          73356,
          47754,
          60570,
          63518,
          48975,
          65758,
          57924,
          84455,
          64421,
          64930,
          60252,
          44775,
          57036,
          46812,
          67297,
          52459,
          42755,
          44312,
          42505,
          54634,
          45982,
          63100,
          63782,
          53294,
          51374,
          41561,
          39694,
          37963,
          41935,
          37006,
          32845,
          31847,
          30081,
          28839,
          28200,
          31163,
          30153,
          26048,
          26779,
          26330,
          27407,
          27111,
          29939,
          27113,
          22816,
          24195,
          24042,
          22783,
          22624,
          25390,
          27747,
          20101,
          23953,
          21749,
          24070,
          23405,
          25374,
          28988,
          24228,
          23996,
          30519,
          28224,
          30738,
          29772,
          35919,
          30288,
          28206,
          27233,
          31916,
          31663,
          31780,
          31151,
          28867,
          28635,
          30430,
          30862,
          30067,
          32322,
          42680,
          31878,
          29674,
          34866,
          33222,
          30874,
          34139,
          37324,
          35106,
          32379,
          34015,
          32927,
          32044,
          35643,
          38934,
          35003,
          32475,
          35479,
          36248,
          36304,
          32078,
          40354,
          39475,
          61702,
          45218,
          49489,
          48023,
          52330,
          49566,
          38614,
          46737,
          47472,
          45603,
          46578,
          47719,
          50581,
          42898,
          40830,
          43029,
          40566,
          41433,
          45360,
          44728,
          43035,
          41579,
          40477,
          38556,
          45967,
          51485,
          51300,
          47533,
          42081,
          45516,
          47191,
          46851,
          45862,
          40696,
          41741,
          41211,
          41245,
          38092,
          40170,
          49141,
          43291,
          40424,
          40843,
          39820,
          38934,
          42067,
          47901,
          42554,
          40195,
          43116,
          41086,
          39746,
          37339,
          41636,
          41437,
          38744,
          38421,
          37459,
          40936,
          38523,
          42293,
          45992,
          38274,
          40260,
          36109,
          36916,
          37555,
          41327,
          46339,
          39461,
          38260,
          36579,
          38640,
          37522,
          44580,
          43780,
          40296,
          39750,
          40378,
          42511,
          42864,
          43718,
          50447,
          44216,
          42004,
          37559,
          39468,
          38006,
          42926,
          49259,
          44719,
          35092,
          38449,
          37248,
          39894,
          39809,
          40775,
          32751,
          38022,
          36686,
          38927,
          38062,
          37074,
          37578,
          36432,
          34827,
          38263,
          36987,
          42314,
          47583,
          50092,
          47210,
          41368,
          38886,
          39073,
          37405,
          43459,
          49354,
          44086,
          38485,
          39606,
          40273,
          43004,
          45583,
          47635,
          46707,
          38629,
          39828,
          40703,
          36211,
          49537,
          51095,
          43024,
          40455,
          38853,
          38839,
          41322,
          42155,
          43516,
          39072,
          39357,
          32487,
          38141,
          35750,
          40414,
          39634,
          36125,
          37269,
          37642,
          36465,
          38836,
          39110,
          32909,
          36523,
          40509,
          36328,
          35398,
          35842,
          34745,
          36144,
          37421,
          38139,
          35632,
          36240,
          35132,
          43417,
          43419,
          39518,
          37000,
          33016,
          35791,
          35823,
          39386,
          41886,
          38355,
          37378,
          38688,
          40903,
          11534,
          44037,
          37466,
          40423,
          39037,
          36194,
          39622,
          39296,
          39965,
          42240,
          38946,
          37488,
          37187,
          34950,
          37031,
          33023,
          42246,
          34386,
          30408,
          33365,
          34182,
          35088,
          38836,
          42962,
          39509,
          40135,
          37051,
          41293,
          38923,
          13858,
          40240,
          35806,
          39488,
          36703,
          38405,
          40271,
          41464,
          47738,
          44674,
          41364,
          40882,
          38960,
          38216,
          43184,
          43807,
          39711,
          39966,
          36300,
          40076,
          31672,
          38204,
          39361,
          36131
         ]
        }
       ],
       "layout": {
        "template": {
         "data": {
          "bar": [
           {
            "error_x": {
             "color": "#2a3f5f"
            },
            "error_y": {
             "color": "#2a3f5f"
            },
            "marker": {
             "line": {
              "color": "#E5ECF6",
              "width": 0.5
             }
            },
            "type": "bar"
           }
          ],
          "barpolar": [
           {
            "marker": {
             "line": {
              "color": "#E5ECF6",
              "width": 0.5
             }
            },
            "type": "barpolar"
           }
          ],
          "carpet": [
           {
            "aaxis": {
             "endlinecolor": "#2a3f5f",
             "gridcolor": "white",
             "linecolor": "white",
             "minorgridcolor": "white",
             "startlinecolor": "#2a3f5f"
            },
            "baxis": {
             "endlinecolor": "#2a3f5f",
             "gridcolor": "white",
             "linecolor": "white",
             "minorgridcolor": "white",
             "startlinecolor": "#2a3f5f"
            },
            "type": "carpet"
           }
          ],
          "choropleth": [
           {
            "colorbar": {
             "outlinewidth": 0,
             "ticks": ""
            },
            "type": "choropleth"
           }
          ],
          "contour": [
           {
            "colorbar": {
             "outlinewidth": 0,
             "ticks": ""
            },
            "colorscale": [
             [
              0,
              "#0d0887"
             ],
             [
              0.1111111111111111,
              "#46039f"
             ],
             [
              0.2222222222222222,
              "#7201a8"
             ],
             [
              0.3333333333333333,
              "#9c179e"
             ],
             [
              0.4444444444444444,
              "#bd3786"
             ],
             [
              0.5555555555555556,
              "#d8576b"
             ],
             [
              0.6666666666666666,
              "#ed7953"
             ],
             [
              0.7777777777777778,
              "#fb9f3a"
             ],
             [
              0.8888888888888888,
              "#fdca26"
             ],
             [
              1,
              "#f0f921"
             ]
            ],
            "type": "contour"
           }
          ],
          "contourcarpet": [
           {
            "colorbar": {
             "outlinewidth": 0,
             "ticks": ""
            },
            "type": "contourcarpet"
           }
          ],
          "heatmap": [
           {
            "colorbar": {
             "outlinewidth": 0,
             "ticks": ""
            },
            "colorscale": [
             [
              0,
              "#0d0887"
             ],
             [
              0.1111111111111111,
              "#46039f"
             ],
             [
              0.2222222222222222,
              "#7201a8"
             ],
             [
              0.3333333333333333,
              "#9c179e"
             ],
             [
              0.4444444444444444,
              "#bd3786"
             ],
             [
              0.5555555555555556,
              "#d8576b"
             ],
             [
              0.6666666666666666,
              "#ed7953"
             ],
             [
              0.7777777777777778,
              "#fb9f3a"
             ],
             [
              0.8888888888888888,
              "#fdca26"
             ],
             [
              1,
              "#f0f921"
             ]
            ],
            "type": "heatmap"
           }
          ],
          "heatmapgl": [
           {
            "colorbar": {
             "outlinewidth": 0,
             "ticks": ""
            },
            "colorscale": [
             [
              0,
              "#0d0887"
             ],
             [
              0.1111111111111111,
              "#46039f"
             ],
             [
              0.2222222222222222,
              "#7201a8"
             ],
             [
              0.3333333333333333,
              "#9c179e"
             ],
             [
              0.4444444444444444,
              "#bd3786"
             ],
             [
              0.5555555555555556,
              "#d8576b"
             ],
             [
              0.6666666666666666,
              "#ed7953"
             ],
             [
              0.7777777777777778,
              "#fb9f3a"
             ],
             [
              0.8888888888888888,
              "#fdca26"
             ],
             [
              1,
              "#f0f921"
             ]
            ],
            "type": "heatmapgl"
           }
          ],
          "histogram": [
           {
            "marker": {
             "colorbar": {
              "outlinewidth": 0,
              "ticks": ""
             }
            },
            "type": "histogram"
           }
          ],
          "histogram2d": [
           {
            "colorbar": {
             "outlinewidth": 0,
             "ticks": ""
            },
            "colorscale": [
             [
              0,
              "#0d0887"
             ],
             [
              0.1111111111111111,
              "#46039f"
             ],
             [
              0.2222222222222222,
              "#7201a8"
             ],
             [
              0.3333333333333333,
              "#9c179e"
             ],
             [
              0.4444444444444444,
              "#bd3786"
             ],
             [
              0.5555555555555556,
              "#d8576b"
             ],
             [
              0.6666666666666666,
              "#ed7953"
             ],
             [
              0.7777777777777778,
              "#fb9f3a"
             ],
             [
              0.8888888888888888,
              "#fdca26"
             ],
             [
              1,
              "#f0f921"
             ]
            ],
            "type": "histogram2d"
           }
          ],
          "histogram2dcontour": [
           {
            "colorbar": {
             "outlinewidth": 0,
             "ticks": ""
            },
            "colorscale": [
             [
              0,
              "#0d0887"
             ],
             [
              0.1111111111111111,
              "#46039f"
             ],
             [
              0.2222222222222222,
              "#7201a8"
             ],
             [
              0.3333333333333333,
              "#9c179e"
             ],
             [
              0.4444444444444444,
              "#bd3786"
             ],
             [
              0.5555555555555556,
              "#d8576b"
             ],
             [
              0.6666666666666666,
              "#ed7953"
             ],
             [
              0.7777777777777778,
              "#fb9f3a"
             ],
             [
              0.8888888888888888,
              "#fdca26"
             ],
             [
              1,
              "#f0f921"
             ]
            ],
            "type": "histogram2dcontour"
           }
          ],
          "mesh3d": [
           {
            "colorbar": {
             "outlinewidth": 0,
             "ticks": ""
            },
            "type": "mesh3d"
           }
          ],
          "parcoords": [
           {
            "line": {
             "colorbar": {
              "outlinewidth": 0,
              "ticks": ""
             }
            },
            "type": "parcoords"
           }
          ],
          "pie": [
           {
            "automargin": true,
            "type": "pie"
           }
          ],
          "scatter": [
           {
            "marker": {
             "colorbar": {
              "outlinewidth": 0,
              "ticks": ""
             }
            },
            "type": "scatter"
           }
          ],
          "scatter3d": [
           {
            "line": {
             "colorbar": {
              "outlinewidth": 0,
              "ticks": ""
             }
            },
            "marker": {
             "colorbar": {
              "outlinewidth": 0,
              "ticks": ""
             }
            },
            "type": "scatter3d"
           }
          ],
          "scattercarpet": [
           {
            "marker": {
             "colorbar": {
              "outlinewidth": 0,
              "ticks": ""
             }
            },
            "type": "scattercarpet"
           }
          ],
          "scattergeo": [
           {
            "marker": {
             "colorbar": {
              "outlinewidth": 0,
              "ticks": ""
             }
            },
            "type": "scattergeo"
           }
          ],
          "scattergl": [
           {
            "marker": {
             "colorbar": {
              "outlinewidth": 0,
              "ticks": ""
             }
            },
            "type": "scattergl"
           }
          ],
          "scattermapbox": [
           {
            "marker": {
             "colorbar": {
              "outlinewidth": 0,
              "ticks": ""
             }
            },
            "type": "scattermapbox"
           }
          ],
          "scatterpolar": [
           {
            "marker": {
             "colorbar": {
              "outlinewidth": 0,
              "ticks": ""
             }
            },
            "type": "scatterpolar"
           }
          ],
          "scatterpolargl": [
           {
            "marker": {
             "colorbar": {
              "outlinewidth": 0,
              "ticks": ""
             }
            },
            "type": "scatterpolargl"
           }
          ],
          "scatterternary": [
           {
            "marker": {
             "colorbar": {
              "outlinewidth": 0,
              "ticks": ""
             }
            },
            "type": "scatterternary"
           }
          ],
          "surface": [
           {
            "colorbar": {
             "outlinewidth": 0,
             "ticks": ""
            },
            "colorscale": [
             [
              0,
              "#0d0887"
             ],
             [
              0.1111111111111111,
              "#46039f"
             ],
             [
              0.2222222222222222,
              "#7201a8"
             ],
             [
              0.3333333333333333,
              "#9c179e"
             ],
             [
              0.4444444444444444,
              "#bd3786"
             ],
             [
              0.5555555555555556,
              "#d8576b"
             ],
             [
              0.6666666666666666,
              "#ed7953"
             ],
             [
              0.7777777777777778,
              "#fb9f3a"
             ],
             [
              0.8888888888888888,
              "#fdca26"
             ],
             [
              1,
              "#f0f921"
             ]
            ],
            "type": "surface"
           }
          ],
          "table": [
           {
            "cells": {
             "fill": {
              "color": "#EBF0F8"
             },
             "line": {
              "color": "white"
             }
            },
            "header": {
             "fill": {
              "color": "#C8D4E3"
             },
             "line": {
              "color": "white"
             }
            },
            "type": "table"
           }
          ]
         },
         "layout": {
          "annotationdefaults": {
           "arrowcolor": "#2a3f5f",
           "arrowhead": 0,
           "arrowwidth": 1
          },
          "autotypenumbers": "strict",
          "coloraxis": {
           "colorbar": {
            "outlinewidth": 0,
            "ticks": ""
           }
          },
          "colorscale": {
           "diverging": [
            [
             0,
             "#8e0152"
            ],
            [
             0.1,
             "#c51b7d"
            ],
            [
             0.2,
             "#de77ae"
            ],
            [
             0.3,
             "#f1b6da"
            ],
            [
             0.4,
             "#fde0ef"
            ],
            [
             0.5,
             "#f7f7f7"
            ],
            [
             0.6,
             "#e6f5d0"
            ],
            [
             0.7,
             "#b8e186"
            ],
            [
             0.8,
             "#7fbc41"
            ],
            [
             0.9,
             "#4d9221"
            ],
            [
             1,
             "#276419"
            ]
           ],
           "sequential": [
            [
             0,
             "#0d0887"
            ],
            [
             0.1111111111111111,
             "#46039f"
            ],
            [
             0.2222222222222222,
             "#7201a8"
            ],
            [
             0.3333333333333333,
             "#9c179e"
            ],
            [
             0.4444444444444444,
             "#bd3786"
            ],
            [
             0.5555555555555556,
             "#d8576b"
            ],
            [
             0.6666666666666666,
             "#ed7953"
            ],
            [
             0.7777777777777778,
             "#fb9f3a"
            ],
            [
             0.8888888888888888,
             "#fdca26"
            ],
            [
             1,
             "#f0f921"
            ]
           ],
           "sequentialminus": [
            [
             0,
             "#0d0887"
            ],
            [
             0.1111111111111111,
             "#46039f"
            ],
            [
             0.2222222222222222,
             "#7201a8"
            ],
            [
             0.3333333333333333,
             "#9c179e"
            ],
            [
             0.4444444444444444,
             "#bd3786"
            ],
            [
             0.5555555555555556,
             "#d8576b"
            ],
            [
             0.6666666666666666,
             "#ed7953"
            ],
            [
             0.7777777777777778,
             "#fb9f3a"
            ],
            [
             0.8888888888888888,
             "#fdca26"
            ],
            [
             1,
             "#f0f921"
            ]
           ]
          },
          "colorway": [
           "#636efa",
           "#EF553B",
           "#00cc96",
           "#ab63fa",
           "#FFA15A",
           "#19d3f3",
           "#FF6692",
           "#B6E880",
           "#FF97FF",
           "#FECB52"
          ],
          "font": {
           "color": "#2a3f5f"
          },
          "geo": {
           "bgcolor": "white",
           "lakecolor": "white",
           "landcolor": "#E5ECF6",
           "showlakes": true,
           "showland": true,
           "subunitcolor": "white"
          },
          "hoverlabel": {
           "align": "left"
          },
          "hovermode": "closest",
          "mapbox": {
           "style": "light"
          },
          "paper_bgcolor": "white",
          "plot_bgcolor": "#E5ECF6",
          "polar": {
           "angularaxis": {
            "gridcolor": "white",
            "linecolor": "white",
            "ticks": ""
           },
           "bgcolor": "#E5ECF6",
           "radialaxis": {
            "gridcolor": "white",
            "linecolor": "white",
            "ticks": ""
           }
          },
          "scene": {
           "xaxis": {
            "backgroundcolor": "#E5ECF6",
            "gridcolor": "white",
            "gridwidth": 2,
            "linecolor": "white",
            "showbackground": true,
            "ticks": "",
            "zerolinecolor": "white"
           },
           "yaxis": {
            "backgroundcolor": "#E5ECF6",
            "gridcolor": "white",
            "gridwidth": 2,
            "linecolor": "white",
            "showbackground": true,
            "ticks": "",
            "zerolinecolor": "white"
           },
           "zaxis": {
            "backgroundcolor": "#E5ECF6",
            "gridcolor": "white",
            "gridwidth": 2,
            "linecolor": "white",
            "showbackground": true,
            "ticks": "",
            "zerolinecolor": "white"
           }
          },
          "shapedefaults": {
           "line": {
            "color": "#2a3f5f"
           }
          },
          "ternary": {
           "aaxis": {
            "gridcolor": "white",
            "linecolor": "white",
            "ticks": ""
           },
           "baxis": {
            "gridcolor": "white",
            "linecolor": "white",
            "ticks": ""
           },
           "bgcolor": "#E5ECF6",
           "caxis": {
            "gridcolor": "white",
            "linecolor": "white",
            "ticks": ""
           }
          },
          "title": {
           "x": 0.05
          },
          "xaxis": {
           "automargin": true,
           "gridcolor": "white",
           "linecolor": "white",
           "ticks": "",
           "title": {
            "standoff": 15
           },
           "zerolinecolor": "white",
           "zerolinewidth": 2
          },
          "yaxis": {
           "automargin": true,
           "gridcolor": "white",
           "linecolor": "white",
           "ticks": "",
           "title": {
            "standoff": 15
           },
           "zerolinecolor": "white",
           "zerolinewidth": 2
          }
         }
        },
        "title": {
         "text": "BURGER_KING (LSTM)"
        },
        "xaxis": {
         "title": {
          "text": "time"
         }
        },
        "yaxis": {
         "title": {
          "text": "BURGER_KING price"
         }
        }
       }
      }
     },
     "metadata": {}
    }
   ],
   "source": [
    "predicted_prices_length = predicted_prices.size\n",
    "fig = go.Figure()\n",
    "x_range = np.linspace(0, predicted_prices_length, predicted_prices_length)\n",
    "\n",
    "fig.add_trace(go.Scatter(name=\"predicted\", x=x_test_date, y=predicted_prices.reshape(predicted_prices_length)))\n",
    "fig.add_trace(go.Scatter(name=\"actual\", x=x_test_date, y=y_test.reshape(predicted_prices_length)))\n",
    "fig.update_layout(title=f'{company} (LSTM)', xaxis_title=\"time\", yaxis_title=f\"{company} price\")\n",
    "fig.show()"
   ]
  },
  {
   "cell_type": "markdown",
   "metadata": {},
   "source": [
    "## Predict next day"
   ]
  },
  {
   "cell_type": "code",
   "execution_count": 14,
   "metadata": {},
   "outputs": [
    {
     "output_type": "stream",
     "name": "stdout",
     "text": [
      "real_data: row: 1 col: 4\n",
      "WARNING:tensorflow:Model was constructed with shape (None, 5, 1) for input KerasTensor(type_spec=TensorSpec(shape=(None, 5, 1), dtype=tf.float32, name='lstm_input'), name='lstm_input', description=\"created by layer 'lstm_input'\"), but it was called on an input with incompatible shape (None, 4, 1).\n",
      "Prediction for 01-17-2021:  visits 30405.44\n"
     ]
    }
   ],
   "source": [
    "row_selection = len(model_inputs) + 1 - prediction_days\n",
    "col_selection = len(model_inputs + 1)\n",
    "real_data = [model_inputs[row_selection: col_selection, 0]]\n",
    "real_data = list_to_np_array(real_data, \"real_data\")\n",
    "\n",
    "prediction = model.predict(real_data)\n",
    "prediction = scalar.inverse_transform(prediction)[0][0]\n",
    "\n",
    "prediction_str = \"{:0.2f}\".format(prediction)\n",
    "test_end_str = test_end.strftime(\"%m-%d-%Y\")\n",
    "print(f\"Prediction for {test_end_str}:  visits {prediction_str}\")\n"
   ]
  },
  {
   "source": [
    "## RMSE how good is it?"
   ],
   "cell_type": "markdown",
   "metadata": {}
  },
  {
   "cell_type": "code",
   "execution_count": 15,
   "metadata": {},
   "outputs": [
    {
     "output_type": "stream",
     "name": "stdout",
     "text": [
      "RMSE: 19160.09\n"
     ]
    }
   ],
   "source": [
    "se = np.square(y_test - predicted_prices)\n",
    "mse = np.mean(se)\n",
    "rmse = np.sqrt(mse)\n",
    "rmse_str = \"{:0.2f}\".format(rmse)\n",
    "print(f'RMSE: {rmse_str}')\n",
    "\n",
    "# update rmse calc for looking at the last 100 days "
   ]
  },
  {
   "source": [
    "## RMSE: last 100 days"
   ],
   "cell_type": "markdown",
   "metadata": {}
  },
  {
   "cell_type": "code",
   "execution_count": 16,
   "metadata": {},
   "outputs": [
    {
     "output_type": "stream",
     "name": "stdout",
     "text": [
      "rmse: 5037.10\n"
     ]
    }
   ],
   "source": [
    "se = np.square(y_test[-100:] - predicted_prices[-100:])\n",
    "mse = np.mean(se)\n",
    "rmse = np.sqrt(mse)\n",
    "rmse_str = \"{:0.2f}\".format(rmse)\n",
    "print(\"rmse: \" + rmse_str)"
   ]
  },
  {
   "cell_type": "code",
   "execution_count": null,
   "metadata": {},
   "outputs": [],
   "source": []
  }
 ],
 "metadata": {
  "kernelspec": {
   "name": "python3",
   "display_name": "Python 3",
   "language": "python"
  },
  "language_info": {
   "codemirror_mode": {
    "name": "ipython",
    "version": 3
   },
   "file_extension": ".py",
   "mimetype": "text/x-python",
   "name": "python",
   "nbconvert_exporter": "python",
   "pygments_lexer": "ipython3",
   "version": "3.7.10-final"
  }
 },
 "nbformat": 4,
 "nbformat_minor": 4
}